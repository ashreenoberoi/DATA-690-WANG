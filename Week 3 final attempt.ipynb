{
 "cells": [
  {
   "cell_type": "markdown",
   "metadata": {},
   "source": [
    "#Write a program that generates 100 random integers between 0 and 9.\n",
    "\n",
    "Print them in a 10 by 10 matrix neatly arranged like the following (one space between each number):\n",
    "5 1 5 6 2 7 8 6 4 2 \n",
    "2 3 7 0 6 9 2 4 2 8 \n",
    "0 0 8 6 4 1 7 2 7 6 \n",
    "0 1 9 0 0 8 5 8 6 8 \n",
    "4 1 0 5 5 7 4 6 4 4 \n",
    "6 0 2 0 1 9 8 2 3 9 \n",
    "4 0 4 8 1 7 6 6 2 1 \n",
    "1 7 6 8 5 4 1 9 6 7 \n",
    "6 4 7 9 9 3 8 2 6 1 \n",
    "9 0 6 4 0 1 0 6 9 9"
   ]
  },
  {
   "cell_type": "code",
   "execution_count": 19,
   "metadata": {},
   "outputs": [
    {
     "name": "stdout",
     "output_type": "stream",
     "text": [
      "4 7 4 7 7 0 4 3 1 5 \n",
      "7 4 1 8 1 0 0 9 4 8 \n",
      "9 3 4 9 7 5 5 3 9 8 \n",
      "2 8 1 4 6 5 7 9 7 1 \n",
      "8 0 0 2 2 0 2 2 7 7 \n",
      "6 0 3 5 4 0 1 7 2 3 \n",
      "3 7 2 3 8 9 7 4 7 3 \n",
      "5 7 9 3 9 2 9 7 9 3 \n",
      "7 3 8 5 4 1 0 3 4 3 \n",
      "8 9 3 2 3 5 0 4 9 0 \n"
     ]
    }
   ],
   "source": [
    "import random\n",
    "\n",
    "low = 0\n",
    "high = 9\n",
    "cols = 10\n",
    "rows = 10\n",
    "for i in range(0,cols):\n",
    "    for j in range(0,rows):\n",
    "        val = random.randint(low,high)\n",
    "        print(val, end =\" \")\n",
    "    print('')"
   ]
  },
  {
   "cell_type": "markdown",
   "metadata": {},
   "source": [
    "If the random number is an odd number, print \"@\" instead. like the following:\n",
    "@ @ 0 2 6 @ 8 8 0 0 \n",
    "@ 4 @ 4 4 @ 2 @ 2 2 \n",
    "@ 6 8 @ @ @ 0 @ 0 @ \n",
    "2 6 @ 0 @ 2 @ @ 0 @ \n",
    "8 4 @ @ @ 0 @ @ 6 @ \n",
    "@ @ 4 6 @ @ @ 2 @ 2 \n",
    "@ @ @ @ 4 @ @ 2 2 0 \n",
    "@ 6 @ 0 0 8 @ 2 0 @ \n",
    "8 8 @ @ @ 0 0 @ 4 6 \n",
    "@ 2 2 6 8 2 @ @ @ 6"
   ]
  },
  {
   "cell_type": "code",
   "execution_count": 3,
   "metadata": {},
   "outputs": [
    {
     "name": "stdout",
     "output_type": "stream",
     "text": [
      "2 @ 2 @ @ @ 4 8 @ @ \n",
      "\n",
      "8 6 @ 4 4 @ 2 @ @ 6 \n",
      "\n",
      "@ @ 2 4 4 2 4 2 6 @ \n",
      "\n",
      "@ 6 @ 0 0 @ 4 8 @ 6 \n",
      "\n",
      "2 2 4 4 @ 2 8 6 @ @ \n",
      "\n",
      "4 8 @ 8 4 8 6 8 0 @ \n",
      "\n",
      "6 6 @ @ @ 4 @ @ 4 @ \n",
      "\n",
      "6 6 0 @ 0 6 @ 0 2 2 \n",
      "\n",
      "@ 0 8 @ 6 8 @ @ 8 8 \n",
      "\n",
      "@ 8 6 @ 6 8 8 @ @ 0 \n",
      "\n"
     ]
    }
   ],
   "source": [
    "for i in range(0,10):\n",
    "  for j in range(0,10):\n",
    "    value = randint(0,9)\n",
    "    if value%2 != 0:\n",
    "      value = \"@\"\n",
    "    print (value, '', end =\"\")\n",
    "  print('\\n')"
   ]
  },
  {
   "cell_type": "markdown",
   "metadata": {},
   "source": [
    "Calculate and Print the total of each row like the following (use \"*\" to separate the total from the numbers):\n",
    "7 6 5 8 8 0 7 6 0 1 * 48 \n",
    "8 5 7 9 8 0 9 3 0 1 * 50 \n",
    "4 0 3 5 3 9 0 8 3 9 * 44 \n",
    "3 5 5 3 8 3 4 3 2 2 * 38 \n",
    "7 7 4 1 2 7 2 3 0 8 * 41 \n",
    "3 9 7 7 0 9 4 0 6 5 * 50 \n",
    "1 9 7 1 3 0 0 1 4 5 * 31 \n",
    "4 4 0 6 7 4 5 6 9 3 * 48 \n",
    "2 1 1 4 2 0 1 2 9 2 * 24\n",
    "2 1 6 7 7 8 1 0 0 4 * 36"
   ]
  },
  {
   "cell_type": "code",
   "execution_count": 4,
   "metadata": {},
   "outputs": [
    {
     "name": "stdout",
     "output_type": "stream",
     "text": [
      "4 3 4 3 8 0 9 6 2 8 * 47\n",
      "9 4 1 2 4 0 1 0 7 2 * 30\n",
      "1 9 1 8 5 5 9 5 0 3 * 46\n",
      "7 3 5 7 7 1 3 1 2 8 * 44\n",
      "0 2 4 8 1 8 1 5 2 7 * 38\n",
      "8 5 4 8 7 1 7 3 7 1 * 51\n",
      "2 4 5 8 2 0 0 8 2 4 * 35\n",
      "5 2 5 7 0 6 8 5 4 4 * 46\n",
      "0 1 5 0 7 8 9 0 8 2 * 40\n",
      "6 3 5 5 6 8 8 7 1 3 * 52\n"
     ]
    }
   ],
   "source": [
    "sum1 = 0\n",
    "for i in range (0,10):\n",
    "  sum1= 0\n",
    "  for j in range(0,10):\n",
    "    value = randint(0,9)\n",
    "    sum1 = sum1+value\n",
    "    print(value, '', end=\"\")\n",
    "  print('*', sum1)"
   ]
  },
  {
   "cell_type": "code",
   "execution_count": null,
   "metadata": {},
   "outputs": [],
   "source": []
  }
 ],
 "metadata": {
  "kernelspec": {
   "display_name": "Python 3",
   "language": "python",
   "name": "python3"
  },
  "language_info": {
   "codemirror_mode": {
    "name": "ipython",
    "version": 3
   },
   "file_extension": ".py",
   "mimetype": "text/x-python",
   "name": "python",
   "nbconvert_exporter": "python",
   "pygments_lexer": "ipython3",
   "version": "3.7.3"
  }
 },
 "nbformat": 4,
 "nbformat_minor": 4
}
