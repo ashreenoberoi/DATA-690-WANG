{
 "cells": [
  {
   "cell_type": "markdown",
   "metadata": {},
   "source": [
    "Use Pandas read_html() function to retrive the HTML tables as dataframes from the web page: https://www.genealogybranches.com/censuscosts.html"
   ]
  },
  {
   "cell_type": "code",
   "execution_count": 1,
   "metadata": {},
   "outputs": [],
   "source": [
    "import pandas as pd\n"
   ]
  },
  {
   "cell_type": "markdown",
   "metadata": {},
   "source": [
    "Find out how many HTML tables Pandas retrieves from the web page. Find out which dataframe contain the data and use it for further processing."
   ]
  },
  {
   "cell_type": "code",
   "execution_count": 2,
   "metadata": {},
   "outputs": [
    {
     "data": {
      "text/plain": [
       "2"
      ]
     },
     "execution_count": 2,
     "metadata": {},
     "output_type": "execute_result"
    }
   ],
   "source": [
    "df_list = pd.read_html(\"https://www.genealogybranches.com/censuscosts.html\")\n",
    "len(df_list)\n"
   ]
  },
  {
   "cell_type": "code",
   "execution_count": 3,
   "metadata": {},
   "outputs": [
    {
     "data": {
      "text/html": [
       "<div>\n",
       "<style scoped>\n",
       "    .dataframe tbody tr th:only-of-type {\n",
       "        vertical-align: middle;\n",
       "    }\n",
       "\n",
       "    .dataframe tbody tr th {\n",
       "        vertical-align: top;\n",
       "    }\n",
       "\n",
       "    .dataframe thead th {\n",
       "        text-align: right;\n",
       "    }\n",
       "</style>\n",
       "<table border=\"1\" class=\"dataframe\">\n",
       "  <thead>\n",
       "    <tr style=\"text-align: right;\">\n",
       "      <th></th>\n",
       "      <th>0</th>\n",
       "      <th>1</th>\n",
       "      <th>2</th>\n",
       "      <th>3</th>\n",
       "    </tr>\n",
       "  </thead>\n",
       "  <tbody>\n",
       "    <tr>\n",
       "      <th>0</th>\n",
       "      <td>Census Year</td>\n",
       "      <td>Total Population</td>\n",
       "      <td>Census Cost</td>\n",
       "      <td>Average Cost Per Person</td>\n",
       "    </tr>\n",
       "    <tr>\n",
       "      <th>1</th>\n",
       "      <td>1790</td>\n",
       "      <td>3929214</td>\n",
       "      <td>$44,377</td>\n",
       "      <td>1.13 cents</td>\n",
       "    </tr>\n",
       "    <tr>\n",
       "      <th>2</th>\n",
       "      <td>1800</td>\n",
       "      <td>5308483</td>\n",
       "      <td>$66,109</td>\n",
       "      <td>1.24 cents</td>\n",
       "    </tr>\n",
       "    <tr>\n",
       "      <th>3</th>\n",
       "      <td>1810</td>\n",
       "      <td>7239881</td>\n",
       "      <td>$178,445</td>\n",
       "      <td>2.46 cents</td>\n",
       "    </tr>\n",
       "    <tr>\n",
       "      <th>4</th>\n",
       "      <td>1820</td>\n",
       "      <td>9633822</td>\n",
       "      <td>$208,526</td>\n",
       "      <td>2.16 cents</td>\n",
       "    </tr>\n",
       "  </tbody>\n",
       "</table>\n",
       "</div>"
      ],
      "text/plain": [
       "             0                 1            2                        3\n",
       "0  Census Year  Total Population  Census Cost  Average Cost Per Person\n",
       "1         1790           3929214      $44,377               1.13 cents\n",
       "2         1800           5308483      $66,109               1.24 cents\n",
       "3         1810           7239881     $178,445               2.46 cents\n",
       "4         1820           9633822     $208,526               2.16 cents"
      ]
     },
     "execution_count": 3,
     "metadata": {},
     "output_type": "execute_result"
    }
   ],
   "source": [
    "df1 = df_list[0]\n",
    "df1.head()"
   ]
  },
  {
   "cell_type": "markdown",
   "metadata": {},
   "source": [
    "Display and explore the data (rows, columns, etc.) and determine the data quality (bad rows, bad columns, bad elements, null values, etc.)"
   ]
  },
  {
   "cell_type": "code",
   "execution_count": 4,
   "metadata": {},
   "outputs": [
    {
     "data": {
      "text/plain": [
       "Int64Index([0, 1, 2, 3], dtype='int64')"
      ]
     },
     "execution_count": 4,
     "metadata": {},
     "output_type": "execute_result"
    }
   ],
   "source": [
    "df1.columns"
   ]
  },
  {
   "cell_type": "code",
   "execution_count": 5,
   "metadata": {},
   "outputs": [
    {
     "data": {
      "text/plain": [
       "0                Census Year\n",
       "1           Total Population\n",
       "2                Census Cost\n",
       "3    Average Cost Per Person\n",
       "Name: 0, dtype: object"
      ]
     },
     "execution_count": 5,
     "metadata": {},
     "output_type": "execute_result"
    }
   ],
   "source": [
    "first_row = df1.iloc[0]\n",
    "first_row"
   ]
  },
  {
   "cell_type": "code",
   "execution_count": 6,
   "metadata": {},
   "outputs": [
    {
     "data": {
      "text/html": [
       "<div>\n",
       "<style scoped>\n",
       "    .dataframe tbody tr th:only-of-type {\n",
       "        vertical-align: middle;\n",
       "    }\n",
       "\n",
       "    .dataframe tbody tr th {\n",
       "        vertical-align: top;\n",
       "    }\n",
       "\n",
       "    .dataframe thead th {\n",
       "        text-align: right;\n",
       "    }\n",
       "</style>\n",
       "<table border=\"1\" class=\"dataframe\">\n",
       "  <thead>\n",
       "    <tr style=\"text-align: right;\">\n",
       "      <th></th>\n",
       "      <th>Census Year</th>\n",
       "      <th>Total Population</th>\n",
       "      <th>Census Cost</th>\n",
       "      <th>Average Cost Per Person</th>\n",
       "    </tr>\n",
       "  </thead>\n",
       "  <tbody>\n",
       "    <tr>\n",
       "      <th>0</th>\n",
       "      <td>Census Year</td>\n",
       "      <td>Total Population</td>\n",
       "      <td>Census Cost</td>\n",
       "      <td>Average Cost Per Person</td>\n",
       "    </tr>\n",
       "    <tr>\n",
       "      <th>1</th>\n",
       "      <td>1790</td>\n",
       "      <td>3929214</td>\n",
       "      <td>$44,377</td>\n",
       "      <td>1.13 cents</td>\n",
       "    </tr>\n",
       "    <tr>\n",
       "      <th>2</th>\n",
       "      <td>1800</td>\n",
       "      <td>5308483</td>\n",
       "      <td>$66,109</td>\n",
       "      <td>1.24 cents</td>\n",
       "    </tr>\n",
       "    <tr>\n",
       "      <th>3</th>\n",
       "      <td>1810</td>\n",
       "      <td>7239881</td>\n",
       "      <td>$178,445</td>\n",
       "      <td>2.46 cents</td>\n",
       "    </tr>\n",
       "    <tr>\n",
       "      <th>4</th>\n",
       "      <td>1820</td>\n",
       "      <td>9633822</td>\n",
       "      <td>$208,526</td>\n",
       "      <td>2.16 cents</td>\n",
       "    </tr>\n",
       "  </tbody>\n",
       "</table>\n",
       "</div>"
      ],
      "text/plain": [
       "0  Census Year  Total Population  Census Cost  Average Cost Per Person\n",
       "0  Census Year  Total Population  Census Cost  Average Cost Per Person\n",
       "1         1790           3929214      $44,377               1.13 cents\n",
       "2         1800           5308483      $66,109               1.24 cents\n",
       "3         1810           7239881     $178,445               2.46 cents\n",
       "4         1820           9633822     $208,526               2.16 cents"
      ]
     },
     "execution_count": 6,
     "metadata": {},
     "output_type": "execute_result"
    }
   ],
   "source": [
    "df1.columns = first_row\n",
    "df1.head()"
   ]
  },
  {
   "cell_type": "code",
   "execution_count": 7,
   "metadata": {},
   "outputs": [
    {
     "data": {
      "text/html": [
       "<div>\n",
       "<style scoped>\n",
       "    .dataframe tbody tr th:only-of-type {\n",
       "        vertical-align: middle;\n",
       "    }\n",
       "\n",
       "    .dataframe tbody tr th {\n",
       "        vertical-align: top;\n",
       "    }\n",
       "\n",
       "    .dataframe thead th {\n",
       "        text-align: right;\n",
       "    }\n",
       "</style>\n",
       "<table border=\"1\" class=\"dataframe\">\n",
       "  <thead>\n",
       "    <tr style=\"text-align: right;\">\n",
       "      <th></th>\n",
       "      <th>Census Year</th>\n",
       "      <th>Total Population</th>\n",
       "      <th>Census Cost</th>\n",
       "      <th>Average Cost Per Person</th>\n",
       "    </tr>\n",
       "  </thead>\n",
       "  <tbody>\n",
       "    <tr>\n",
       "      <th>0</th>\n",
       "      <td>Census Year</td>\n",
       "      <td>Total Population</td>\n",
       "      <td>Census Cost</td>\n",
       "      <td>Average Cost Per Person</td>\n",
       "    </tr>\n",
       "    <tr>\n",
       "      <th>1</th>\n",
       "      <td>1790</td>\n",
       "      <td>3929214</td>\n",
       "      <td>$44,377</td>\n",
       "      <td>1.13 cents</td>\n",
       "    </tr>\n",
       "    <tr>\n",
       "      <th>2</th>\n",
       "      <td>1800</td>\n",
       "      <td>5308483</td>\n",
       "      <td>$66,109</td>\n",
       "      <td>1.24 cents</td>\n",
       "    </tr>\n",
       "    <tr>\n",
       "      <th>3</th>\n",
       "      <td>1810</td>\n",
       "      <td>7239881</td>\n",
       "      <td>$178,445</td>\n",
       "      <td>2.46 cents</td>\n",
       "    </tr>\n",
       "    <tr>\n",
       "      <th>4</th>\n",
       "      <td>1820</td>\n",
       "      <td>9633822</td>\n",
       "      <td>$208,526</td>\n",
       "      <td>2.16 cents</td>\n",
       "    </tr>\n",
       "  </tbody>\n",
       "</table>\n",
       "</div>"
      ],
      "text/plain": [
       "0  Census Year  Total Population  Census Cost  Average Cost Per Person\n",
       "0  Census Year  Total Population  Census Cost  Average Cost Per Person\n",
       "1         1790           3929214      $44,377               1.13 cents\n",
       "2         1800           5308483      $66,109               1.24 cents\n",
       "3         1810           7239881     $178,445               2.46 cents\n",
       "4         1820           9633822     $208,526               2.16 cents"
      ]
     },
     "execution_count": 7,
     "metadata": {},
     "output_type": "execute_result"
    }
   ],
   "source": [
    "df1.head()\n"
   ]
  },
  {
   "cell_type": "markdown",
   "metadata": {},
   "source": [
    "Problems with the above data frame\n",
    "\n",
    "\n",
    "\n",
    "1.   2010 has an \"*\" which counts as unclear dataset\n",
    "2.   Billion does not have zeros but it is spelled out, it is also a form of unclear data\n",
    "3. Average cost per person has cents written next to it, makes it harder to form assumptions\n",
    "4. Average cost per person also has \",\" at the end which needs to be removed"
   ]
  },
  {
   "cell_type": "markdown",
   "metadata": {},
   "source": [
    "**Extract the \"Census Cost\" column from the data_list and assign them to a list named \"cost_list\". Remove the \",\", and \"$\", and \"Billion\". Make sure to add the \"0\"s to the numbers from which you removed \"Billion\". Print the cleansed cost_list.**\n",
    "\n",
    "Let's define function for that"
   ]
  },
  {
   "cell_type": "code",
   "execution_count": 8,
   "metadata": {},
   "outputs": [],
   "source": [
    "def cleanse_cost(raw_cost):\n",
    "    cost = raw_cost.lstrip(\"$\").replace(\",\",\"\")\n",
    "    if  raw_cost.find(\"4.5\") != -1:          # if \"4.5\" in raw_cost:\n",
    "        cost = \"45\" + \"0\" * 8\n",
    "    elif raw_cost.find(\"Billion\") != -1:     # elif \"Billion\" in raw_cost: \n",
    "        cost = \"13\" + \"0\" * 9\n",
    "    return cost"
   ]
  },
  {
   "cell_type": "markdown",
   "metadata": {},
   "source": [
    "Now Let's apply it on census cost"
   ]
  },
  {
   "cell_type": "code",
   "execution_count": 9,
   "metadata": {},
   "outputs": [
    {
     "data": {
      "text/html": [
       "<div>\n",
       "<style scoped>\n",
       "    .dataframe tbody tr th:only-of-type {\n",
       "        vertical-align: middle;\n",
       "    }\n",
       "\n",
       "    .dataframe tbody tr th {\n",
       "        vertical-align: top;\n",
       "    }\n",
       "\n",
       "    .dataframe thead th {\n",
       "        text-align: right;\n",
       "    }\n",
       "</style>\n",
       "<table border=\"1\" class=\"dataframe\">\n",
       "  <thead>\n",
       "    <tr style=\"text-align: right;\">\n",
       "      <th></th>\n",
       "      <th>Census Year</th>\n",
       "      <th>Total Population</th>\n",
       "      <th>Census Cost</th>\n",
       "      <th>Average Cost Per Person</th>\n",
       "      <th>new cost</th>\n",
       "    </tr>\n",
       "  </thead>\n",
       "  <tbody>\n",
       "    <tr>\n",
       "      <th>0</th>\n",
       "      <td>Census Year</td>\n",
       "      <td>Total Population</td>\n",
       "      <td>Census Cost</td>\n",
       "      <td>Average Cost Per Person</td>\n",
       "      <td>Census Cost</td>\n",
       "    </tr>\n",
       "    <tr>\n",
       "      <th>1</th>\n",
       "      <td>1790</td>\n",
       "      <td>3929214</td>\n",
       "      <td>$44,377</td>\n",
       "      <td>1.13 cents</td>\n",
       "      <td>44377</td>\n",
       "    </tr>\n",
       "    <tr>\n",
       "      <th>2</th>\n",
       "      <td>1800</td>\n",
       "      <td>5308483</td>\n",
       "      <td>$66,109</td>\n",
       "      <td>1.24 cents</td>\n",
       "      <td>66109</td>\n",
       "    </tr>\n",
       "    <tr>\n",
       "      <th>3</th>\n",
       "      <td>1810</td>\n",
       "      <td>7239881</td>\n",
       "      <td>$178,445</td>\n",
       "      <td>2.46 cents</td>\n",
       "      <td>178445</td>\n",
       "    </tr>\n",
       "    <tr>\n",
       "      <th>4</th>\n",
       "      <td>1820</td>\n",
       "      <td>9633822</td>\n",
       "      <td>$208,526</td>\n",
       "      <td>2.16 cents</td>\n",
       "      <td>208526</td>\n",
       "    </tr>\n",
       "  </tbody>\n",
       "</table>\n",
       "</div>"
      ],
      "text/plain": [
       "0  Census Year  Total Population  Census Cost  Average Cost Per Person  \\\n",
       "0  Census Year  Total Population  Census Cost  Average Cost Per Person   \n",
       "1         1790           3929214      $44,377               1.13 cents   \n",
       "2         1800           5308483      $66,109               1.24 cents   \n",
       "3         1810           7239881     $178,445               2.46 cents   \n",
       "4         1820           9633822     $208,526               2.16 cents   \n",
       "\n",
       "0     new cost  \n",
       "0  Census Cost  \n",
       "1        44377  \n",
       "2        66109  \n",
       "3       178445  \n",
       "4       208526  "
      ]
     },
     "execution_count": 9,
     "metadata": {},
     "output_type": "execute_result"
    }
   ],
   "source": [
    "df1[\"new cost\"] = df1[\"Census Cost\"].apply(cleanse_cost)\n",
    "df1.head()"
   ]
  },
  {
   "cell_type": "markdown",
   "metadata": {},
   "source": [
    "Now our census cost is clean"
   ]
  },
  {
   "cell_type": "markdown",
   "metadata": {},
   "source": [
    "**Extract the \"Total Population\" column from the data_list and assign them to a list named \"pop_list\". Remove the \",\" from the numbers since Python doesn't recognize them. Print the cleansed \"pop_list\"**\n",
    "\n",
    "Let's define function for that"
   ]
  },
  {
   "cell_type": "code",
   "execution_count": 10,
   "metadata": {},
   "outputs": [],
   "source": [
    "def cleanse_pop(raw_pop):\n",
    "    pop = raw_pop.replace(\",\",\"\")\n",
    "    return pop"
   ]
  },
  {
   "cell_type": "markdown",
   "metadata": {},
   "source": [
    "Now Let's apply it on total population"
   ]
  },
  {
   "cell_type": "code",
   "execution_count": 11,
   "metadata": {},
   "outputs": [
    {
     "data": {
      "text/html": [
       "<div>\n",
       "<style scoped>\n",
       "    .dataframe tbody tr th:only-of-type {\n",
       "        vertical-align: middle;\n",
       "    }\n",
       "\n",
       "    .dataframe tbody tr th {\n",
       "        vertical-align: top;\n",
       "    }\n",
       "\n",
       "    .dataframe thead th {\n",
       "        text-align: right;\n",
       "    }\n",
       "</style>\n",
       "<table border=\"1\" class=\"dataframe\">\n",
       "  <thead>\n",
       "    <tr style=\"text-align: right;\">\n",
       "      <th></th>\n",
       "      <th>Census Year</th>\n",
       "      <th>Total Population</th>\n",
       "      <th>Census Cost</th>\n",
       "      <th>Average Cost Per Person</th>\n",
       "      <th>new cost</th>\n",
       "      <th>new population</th>\n",
       "    </tr>\n",
       "  </thead>\n",
       "  <tbody>\n",
       "    <tr>\n",
       "      <th>0</th>\n",
       "      <td>Census Year</td>\n",
       "      <td>Total Population</td>\n",
       "      <td>Census Cost</td>\n",
       "      <td>Average Cost Per Person</td>\n",
       "      <td>Census Cost</td>\n",
       "      <td>Total Population</td>\n",
       "    </tr>\n",
       "    <tr>\n",
       "      <th>1</th>\n",
       "      <td>1790</td>\n",
       "      <td>3929214</td>\n",
       "      <td>$44,377</td>\n",
       "      <td>1.13 cents</td>\n",
       "      <td>44377</td>\n",
       "      <td>3929214</td>\n",
       "    </tr>\n",
       "    <tr>\n",
       "      <th>2</th>\n",
       "      <td>1800</td>\n",
       "      <td>5308483</td>\n",
       "      <td>$66,109</td>\n",
       "      <td>1.24 cents</td>\n",
       "      <td>66109</td>\n",
       "      <td>5308483</td>\n",
       "    </tr>\n",
       "    <tr>\n",
       "      <th>3</th>\n",
       "      <td>1810</td>\n",
       "      <td>7239881</td>\n",
       "      <td>$178,445</td>\n",
       "      <td>2.46 cents</td>\n",
       "      <td>178445</td>\n",
       "      <td>7239881</td>\n",
       "    </tr>\n",
       "    <tr>\n",
       "      <th>4</th>\n",
       "      <td>1820</td>\n",
       "      <td>9633822</td>\n",
       "      <td>$208,526</td>\n",
       "      <td>2.16 cents</td>\n",
       "      <td>208526</td>\n",
       "      <td>9633822</td>\n",
       "    </tr>\n",
       "  </tbody>\n",
       "</table>\n",
       "</div>"
      ],
      "text/plain": [
       "0  Census Year  Total Population  Census Cost  Average Cost Per Person  \\\n",
       "0  Census Year  Total Population  Census Cost  Average Cost Per Person   \n",
       "1         1790           3929214      $44,377               1.13 cents   \n",
       "2         1800           5308483      $66,109               1.24 cents   \n",
       "3         1810           7239881     $178,445               2.46 cents   \n",
       "4         1820           9633822     $208,526               2.16 cents   \n",
       "\n",
       "0     new cost    new population  \n",
       "0  Census Cost  Total Population  \n",
       "1        44377           3929214  \n",
       "2        66109           5308483  \n",
       "3       178445           7239881  \n",
       "4       208526           9633822  "
      ]
     },
     "execution_count": 11,
     "metadata": {},
     "output_type": "execute_result"
    }
   ],
   "source": [
    "df1[\"new population\"] = df1[\"Total Population\"].apply(cleanse_pop)\n",
    "df1.head()"
   ]
  },
  {
   "cell_type": "markdown",
   "metadata": {},
   "source": [
    "Now the total population is clean"
   ]
  },
  {
   "cell_type": "markdown",
   "metadata": {},
   "source": [
    "**Extract the column \"Census Year\" from data_list and assign them to a list named year_list. Remove the \"\" from the last element \"2010\". Print the cleansed year_list.**\n",
    "\n",
    "Let's define function for that"
   ]
  },
  {
   "cell_type": "code",
   "execution_count": 17,
   "metadata": {},
   "outputs": [],
   "source": [
    "def cleanse_year(raw_pop):\n",
    "    pop = raw_pop.replace(\"*\",\"\")\n",
    "    return pop"
   ]
  },
  {
   "cell_type": "markdown",
   "metadata": {},
   "source": [
    "Let's apply it on census Year"
   ]
  },
  {
   "cell_type": "code",
   "execution_count": 35,
   "metadata": {},
   "outputs": [
    {
     "data": {
      "text/html": [
       "<div>\n",
       "<style scoped>\n",
       "    .dataframe tbody tr th:only-of-type {\n",
       "        vertical-align: middle;\n",
       "    }\n",
       "\n",
       "    .dataframe tbody tr th {\n",
       "        vertical-align: top;\n",
       "    }\n",
       "\n",
       "    .dataframe thead th {\n",
       "        text-align: right;\n",
       "    }\n",
       "</style>\n",
       "<table border=\"1\" class=\"dataframe\">\n",
       "  <thead>\n",
       "    <tr style=\"text-align: right;\">\n",
       "      <th></th>\n",
       "      <th>Census Year</th>\n",
       "      <th>Total Population</th>\n",
       "      <th>Census Cost</th>\n",
       "      <th>Average Cost Per Person</th>\n",
       "      <th>new cost</th>\n",
       "      <th>new population</th>\n",
       "      <th>new year</th>\n",
       "      <th>new cost per person</th>\n",
       "    </tr>\n",
       "  </thead>\n",
       "  <tbody>\n",
       "    <tr>\n",
       "      <th>0</th>\n",
       "      <td>Census Year</td>\n",
       "      <td>Total Population</td>\n",
       "      <td>Census Cost</td>\n",
       "      <td>Average Cost Per Person</td>\n",
       "      <td>Census Cost</td>\n",
       "      <td>Total Population</td>\n",
       "      <td>Census Year</td>\n",
       "      <td>Average Cost Per Perso</td>\n",
       "    </tr>\n",
       "    <tr>\n",
       "      <th>1</th>\n",
       "      <td>1790</td>\n",
       "      <td>3929214</td>\n",
       "      <td>$44,377</td>\n",
       "      <td>1.13 cents</td>\n",
       "      <td>44377</td>\n",
       "      <td>3929214</td>\n",
       "      <td>1790</td>\n",
       "      <td>0.0113</td>\n",
       "    </tr>\n",
       "  </tbody>\n",
       "</table>\n",
       "</div>"
      ],
      "text/plain": [
       "0  Census Year  Total Population  Census Cost  Average Cost Per Person  \\\n",
       "0  Census Year  Total Population  Census Cost  Average Cost Per Person   \n",
       "1         1790           3929214      $44,377               1.13 cents   \n",
       "\n",
       "0     new cost    new population     new year     new cost per person  \n",
       "0  Census Cost  Total Population  Census Year  Average Cost Per Perso  \n",
       "1        44377           3929214         1790                  0.0113  "
      ]
     },
     "execution_count": 35,
     "metadata": {},
     "output_type": "execute_result"
    }
   ],
   "source": [
    "df1[\"new year\"] = df1[\"Census Year\"].apply(cleanse_year)\n",
    "df1.head(2)"
   ]
  },
  {
   "cell_type": "markdown",
   "metadata": {},
   "source": [
    "**Extract the \"Average Cost per Person\" column from the data_list and assign them to a list named \"avg_list\". Remove the \"cents\", and \"$\". Make sure to divide the numbers in cents by 100 so that all numbers are measured in dollar. Print the cleansed avg_list.**\n",
    "\n",
    "Let's deinfe function for this"
   ]
  },
  {
   "cell_type": "code",
   "execution_count": 19,
   "metadata": {},
   "outputs": [],
   "source": [
    "def cleanse_ncpp(raw_ncpp):\n",
    "    ncpp = raw_ncpp.rstrip(\"cents\")\n",
    "    if  raw_ncpp.find(\"cents\") != -1:\n",
    "        ncpp1 = float(ncpp)\n",
    "        ncpp = ncpp1/100\n",
    "    return ncpp"
   ]
  },
  {
   "cell_type": "code",
   "execution_count": 36,
   "metadata": {},
   "outputs": [
    {
     "data": {
      "text/html": [
       "<div>\n",
       "<style scoped>\n",
       "    .dataframe tbody tr th:only-of-type {\n",
       "        vertical-align: middle;\n",
       "    }\n",
       "\n",
       "    .dataframe tbody tr th {\n",
       "        vertical-align: top;\n",
       "    }\n",
       "\n",
       "    .dataframe thead th {\n",
       "        text-align: right;\n",
       "    }\n",
       "</style>\n",
       "<table border=\"1\" class=\"dataframe\">\n",
       "  <thead>\n",
       "    <tr style=\"text-align: right;\">\n",
       "      <th></th>\n",
       "      <th>Census Year</th>\n",
       "      <th>Total Population</th>\n",
       "      <th>Census Cost</th>\n",
       "      <th>Average Cost Per Person</th>\n",
       "      <th>new cost</th>\n",
       "      <th>new population</th>\n",
       "      <th>new year</th>\n",
       "      <th>new cost per person</th>\n",
       "    </tr>\n",
       "  </thead>\n",
       "  <tbody>\n",
       "    <tr>\n",
       "      <th>0</th>\n",
       "      <td>Census Year</td>\n",
       "      <td>Total Population</td>\n",
       "      <td>Census Cost</td>\n",
       "      <td>Average Cost Per Person</td>\n",
       "      <td>Census Cost</td>\n",
       "      <td>Total Population</td>\n",
       "      <td>Census Year</td>\n",
       "      <td>Average Cost Per Perso</td>\n",
       "    </tr>\n",
       "    <tr>\n",
       "      <th>1</th>\n",
       "      <td>1790</td>\n",
       "      <td>3929214</td>\n",
       "      <td>$44,377</td>\n",
       "      <td>1.13 cents</td>\n",
       "      <td>44377</td>\n",
       "      <td>3929214</td>\n",
       "      <td>1790</td>\n",
       "      <td>0.0113</td>\n",
       "    </tr>\n",
       "  </tbody>\n",
       "</table>\n",
       "</div>"
      ],
      "text/plain": [
       "0  Census Year  Total Population  Census Cost  Average Cost Per Person  \\\n",
       "0  Census Year  Total Population  Census Cost  Average Cost Per Person   \n",
       "1         1790           3929214      $44,377               1.13 cents   \n",
       "\n",
       "0     new cost    new population     new year     new cost per person  \n",
       "0  Census Cost  Total Population  Census Year  Average Cost Per Perso  \n",
       "1        44377           3929214         1790                  0.0113  "
      ]
     },
     "execution_count": 36,
     "metadata": {},
     "output_type": "execute_result"
    }
   ],
   "source": [
    "df1[\"new cost per person\"] = df1[\"Average Cost Per Person\"].apply(cleanse_ncpp)\n",
    "df1.head(2)"
   ]
  },
  {
   "cell_type": "code",
   "execution_count": 22,
   "metadata": {},
   "outputs": [
    {
     "name": "stdout",
     "output_type": "stream",
     "text": [
      "<class 'pandas.core.frame.DataFrame'>\n",
      "RangeIndex: 24 entries, 0 to 23\n",
      "Data columns (total 8 columns):\n",
      "Census Year                24 non-null object\n",
      "Total Population           24 non-null object\n",
      "Census Cost                24 non-null object\n",
      "Average Cost Per Person    24 non-null object\n",
      "new cost                   24 non-null object\n",
      "new population             24 non-null object\n",
      "new year                   24 non-null object\n",
      "new cost per person        24 non-null object\n",
      "dtypes: object(8)\n",
      "memory usage: 1.6+ KB\n"
     ]
    }
   ],
   "source": [
    "df1.info()"
   ]
  },
  {
   "cell_type": "code",
   "execution_count": 28,
   "metadata": {},
   "outputs": [],
   "source": [
    "df2= df1[['new cost','new population', 'new year','new cost per person']] \n"
   ]
  },
  {
   "cell_type": "code",
   "execution_count": 37,
   "metadata": {},
   "outputs": [
    {
     "data": {
      "text/html": [
       "<div>\n",
       "<style scoped>\n",
       "    .dataframe tbody tr th:only-of-type {\n",
       "        vertical-align: middle;\n",
       "    }\n",
       "\n",
       "    .dataframe tbody tr th {\n",
       "        vertical-align: top;\n",
       "    }\n",
       "\n",
       "    .dataframe thead th {\n",
       "        text-align: right;\n",
       "    }\n",
       "</style>\n",
       "<table border=\"1\" class=\"dataframe\">\n",
       "  <thead>\n",
       "    <tr style=\"text-align: right;\">\n",
       "      <th></th>\n",
       "      <th>new cost</th>\n",
       "      <th>new population</th>\n",
       "      <th>new year</th>\n",
       "      <th>new cost per person</th>\n",
       "    </tr>\n",
       "  </thead>\n",
       "  <tbody>\n",
       "    <tr>\n",
       "      <th>0</th>\n",
       "      <td>Census Cost</td>\n",
       "      <td>Total Population</td>\n",
       "      <td>Census Year</td>\n",
       "      <td>Average Cost Per Perso</td>\n",
       "    </tr>\n",
       "    <tr>\n",
       "      <th>1</th>\n",
       "      <td>44377</td>\n",
       "      <td>3929214</td>\n",
       "      <td>1790</td>\n",
       "      <td>0.0113</td>\n",
       "    </tr>\n",
       "  </tbody>\n",
       "</table>\n",
       "</div>"
      ],
      "text/plain": [
       "0     new cost    new population     new year     new cost per person\n",
       "0  Census Cost  Total Population  Census Year  Average Cost Per Perso\n",
       "1        44377           3929214         1790                  0.0113"
      ]
     },
     "execution_count": 37,
     "metadata": {},
     "output_type": "execute_result"
    }
   ],
   "source": [
    "df2.head(2)"
   ]
  },
  {
   "cell_type": "markdown",
   "metadata": {},
   "source": [
    "After all columns are cleansed, save the clenased dataframe to a file named \"census_cost_cleansed.csv\" using CSV format.\n"
   ]
  },
  {
   "cell_type": "code",
   "execution_count": 30,
   "metadata": {},
   "outputs": [],
   "source": [
    "import csv\n",
    "with open('census_cost_cleansed.csv', 'r', newline='') as f:\n",
    "    fieldnames = ['year_list','pop_list','cost_list','avg_list']\n",
    "    thewriter = csv.DictWriter(f, fieldnames= fieldnames)"
   ]
  },
  {
   "cell_type": "code",
   "execution_count": 31,
   "metadata": {},
   "outputs": [
    {
     "name": "stdout",
     "output_type": "stream",
     "text": [
      "<csv.DictWriter object at 0x00000184421376D8>\n"
     ]
    }
   ],
   "source": [
    "print(thewriter)"
   ]
  },
  {
   "cell_type": "code",
   "execution_count": 32,
   "metadata": {},
   "outputs": [],
   "source": [
    "df2.to_csv(r'C:\\Users\\Sunny\\Desktop\\data 690/census_cost_cleansed.csv', index = False)\n"
   ]
  },
  {
   "cell_type": "code",
   "execution_count": 33,
   "metadata": {},
   "outputs": [],
   "source": [
    "df3=pd.read_csv(\"census_cost_cleansed.csv\") \n"
   ]
  },
  {
   "cell_type": "code",
   "execution_count": 38,
   "metadata": {},
   "outputs": [
    {
     "data": {
      "text/html": [
       "<div>\n",
       "<style scoped>\n",
       "    .dataframe tbody tr th:only-of-type {\n",
       "        vertical-align: middle;\n",
       "    }\n",
       "\n",
       "    .dataframe tbody tr th {\n",
       "        vertical-align: top;\n",
       "    }\n",
       "\n",
       "    .dataframe thead th {\n",
       "        text-align: right;\n",
       "    }\n",
       "</style>\n",
       "<table border=\"1\" class=\"dataframe\">\n",
       "  <thead>\n",
       "    <tr style=\"text-align: right;\">\n",
       "      <th></th>\n",
       "      <th>new cost</th>\n",
       "      <th>new population</th>\n",
       "      <th>new year</th>\n",
       "      <th>new cost per person</th>\n",
       "    </tr>\n",
       "  </thead>\n",
       "  <tbody>\n",
       "    <tr>\n",
       "      <th>0</th>\n",
       "      <td>Census Cost</td>\n",
       "      <td>Total Population</td>\n",
       "      <td>Census Year</td>\n",
       "      <td>Average Cost Per Perso</td>\n",
       "    </tr>\n",
       "    <tr>\n",
       "      <th>1</th>\n",
       "      <td>44377</td>\n",
       "      <td>3929214</td>\n",
       "      <td>1790</td>\n",
       "      <td>0.0113</td>\n",
       "    </tr>\n",
       "  </tbody>\n",
       "</table>\n",
       "</div>"
      ],
      "text/plain": [
       "      new cost    new population     new year     new cost per person\n",
       "0  Census Cost  Total Population  Census Year  Average Cost Per Perso\n",
       "1        44377           3929214         1790                  0.0113"
      ]
     },
     "execution_count": 38,
     "metadata": {},
     "output_type": "execute_result"
    }
   ],
   "source": [
    "df3.head(2)"
   ]
  },
  {
   "cell_type": "code",
   "execution_count": 40,
   "metadata": {},
   "outputs": [
    {
     "data": {
      "text/html": [
       "<div>\n",
       "<style scoped>\n",
       "    .dataframe tbody tr th:only-of-type {\n",
       "        vertical-align: middle;\n",
       "    }\n",
       "\n",
       "    .dataframe tbody tr th {\n",
       "        vertical-align: top;\n",
       "    }\n",
       "\n",
       "    .dataframe thead th {\n",
       "        text-align: right;\n",
       "    }\n",
       "</style>\n",
       "<table border=\"1\" class=\"dataframe\">\n",
       "  <thead>\n",
       "    <tr style=\"text-align: right;\">\n",
       "      <th></th>\n",
       "      <th>new cost</th>\n",
       "      <th>new population</th>\n",
       "      <th>new year</th>\n",
       "      <th>new cost per person</th>\n",
       "    </tr>\n",
       "  </thead>\n",
       "  <tbody>\n",
       "    <tr>\n",
       "      <th>21</th>\n",
       "      <td>2492830000</td>\n",
       "      <td>248718301</td>\n",
       "      <td>1990</td>\n",
       "      <td>$10.02</td>\n",
       "    </tr>\n",
       "    <tr>\n",
       "      <th>22</th>\n",
       "      <td>4500000000</td>\n",
       "      <td>281421906</td>\n",
       "      <td>2000</td>\n",
       "      <td>$15.99</td>\n",
       "    </tr>\n",
       "    <tr>\n",
       "      <th>23</th>\n",
       "      <td>13000000000</td>\n",
       "      <td>308745538</td>\n",
       "      <td>2010</td>\n",
       "      <td>$42.11</td>\n",
       "    </tr>\n",
       "  </tbody>\n",
       "</table>\n",
       "</div>"
      ],
      "text/plain": [
       "       new cost new population new year new cost per person\n",
       "21   2492830000      248718301     1990              $10.02\n",
       "22   4500000000      281421906     2000              $15.99\n",
       "23  13000000000      308745538     2010              $42.11"
      ]
     },
     "execution_count": 40,
     "metadata": {},
     "output_type": "execute_result"
    }
   ],
   "source": [
    "df3.tail(3)"
   ]
  },
  {
   "cell_type": "code",
   "execution_count": null,
   "metadata": {},
   "outputs": [],
   "source": []
  }
 ],
 "metadata": {
  "kernelspec": {
   "display_name": "Python 3",
   "language": "python",
   "name": "python3"
  },
  "language_info": {
   "codemirror_mode": {
    "name": "ipython",
    "version": 3
   },
   "file_extension": ".py",
   "mimetype": "text/x-python",
   "name": "python",
   "nbconvert_exporter": "python",
   "pygments_lexer": "ipython3",
   "version": "3.7.3"
  }
 },
 "nbformat": 4,
 "nbformat_minor": 4
}
