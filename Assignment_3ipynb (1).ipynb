{
  "nbformat": 4,
  "nbformat_minor": 0,
  "metadata": {
    "colab": {
      "name": "Assignment 3ipynb",
      "provenance": [],
      "collapsed_sections": []
    },
    "kernelspec": {
      "name": "python3",
      "display_name": "Python 3"
    }
  },
  "cells": [
    {
      "cell_type": "markdown",
      "metadata": {
        "id": "SDQ9pZ9t1UmC",
        "colab_type": "text"
      },
      "source": [
        "If the random number is an odd number, print \"@\" instead. like the following:"
      ]
    },
    {
      "cell_type": "code",
      "metadata": {
        "id": "l43_pLaWcuIn",
        "colab_type": "code",
        "colab": {
          "base_uri": "https://localhost:8080/",
          "height": 357
        },
        "outputId": "e8421717-3153-4074-d150-bf8e30106068"
      },
      "source": [
        "for i in range(0,10):\n",
        "  for j in range(0,10):\n",
        "    value = randint(0,9)\n",
        "    if value%2 != 0:\n",
        "      value = \"@\"\n",
        "    print (value, '', end =\"\")\n",
        "  print('\\n')"
      ],
      "execution_count": 5,
      "outputs": [
        {
          "output_type": "stream",
          "text": [
            "@ 6 @ @ 6 @ @ 2 @ @ \n",
            "\n",
            "@ @ 4 4 2 @ @ @ @ 0 \n",
            "\n",
            "@ 4 6 @ @ 0 @ @ 2 0 \n",
            "\n",
            "@ 0 2 @ @ @ 8 @ 4 2 \n",
            "\n",
            "8 0 4 @ 8 0 @ @ @ @ \n",
            "\n",
            "8 @ @ @ @ @ @ 4 6 @ \n",
            "\n",
            "@ @ @ 2 @ @ 8 4 8 2 \n",
            "\n",
            "4 @ @ 2 @ @ 2 8 @ 6 \n",
            "\n",
            "@ @ @ 0 0 2 @ @ 2 0 \n",
            "\n",
            "4 @ @ @ 0 @ 8 2 @ 4 \n",
            "\n"
          ],
          "name": "stdout"
        }
      ]
    },
    {
      "cell_type": "markdown",
      "metadata": {
        "id": "v4iXjzwe1hhl",
        "colab_type": "text"
      },
      "source": [
        "Calculate and Print the total of each row like the following (use \"*\" to separate the total from the numbers):\n"
      ]
    },
    {
      "cell_type": "code",
      "metadata": {
        "id": "3QNOXs2stUbS",
        "colab_type": "code",
        "colab": {
          "base_uri": "https://localhost:8080/",
          "height": 187
        },
        "outputId": "d5c4bec4-3f24-43a4-a634-60a163041fa7"
      },
      "source": [
        "sum1 = 0\n",
        "for i in range (0,10):\n",
        "  sum1= 0\n",
        "  for j in range(0,10):\n",
        "    value = randint(0,9)\n",
        "    sum1 = sum1+value\n",
        "    print(value, '', end=\"\")\n",
        "  print('*', sum1)"
      ],
      "execution_count": 4,
      "outputs": [
        {
          "output_type": "stream",
          "text": [
            "8 0 7 1 0 6 2 0 8 3 * 35\n",
            "3 0 1 7 0 0 0 3 4 9 * 27\n",
            "0 2 8 4 6 9 7 2 3 8 * 49\n",
            "4 8 8 8 0 5 8 4 5 6 * 56\n",
            "2 5 9 8 0 2 2 0 3 4 * 35\n",
            "3 0 9 8 2 6 3 7 7 9 * 54\n",
            "0 2 6 4 4 3 9 2 8 2 * 40\n",
            "8 0 6 2 5 9 8 9 6 0 * 53\n",
            "2 7 8 4 7 3 5 2 1 0 * 39\n",
            "8 1 6 7 7 7 9 6 9 5 * 65\n"
          ],
          "name": "stdout"
        }
      ]
    },
    {
      "cell_type": "markdown",
      "metadata": {
        "id": "pE5-T7BU1lL8",
        "colab_type": "text"
      },
      "source": [
        "Print them in a 10 by 10 matrix neatly arranged like the following (one space between each number):"
      ]
    },
    {
      "cell_type": "code",
      "metadata": {
        "id": "v_-ymF-Wu81x",
        "colab_type": "code",
        "colab": {
          "base_uri": "https://localhost:8080/",
          "height": 204
        },
        "outputId": "d561e798-399f-496d-af3e-e22cc204fca1"
      },
      "source": [
        "import pandas as pd\n",
        "from random import randint\n",
        "\n",
        "outside_size = 10 # How many nested lists to include\n",
        "inside_size = 10  # How many numbers will be in an inside list\n",
        "outside_list = [] # The final list\n",
        "for i in range(0, outside_size, 1):\n",
        "    _list = [] # Create new \"inside\" (nested) list\n",
        "    for j in range(0, inside_size, 1): # Populate the nested list with random numbers\n",
        "        _list.append(randint(0, 100))\n",
        "    outside_list.append(_list) # Add the inside (nested) list to the outside (final) list\n",
        "\n",
        "df = pd.DataFrame(outside_list) # Create the dataframe from it\n",
        "print(df)"
      ],
      "execution_count": 3,
      "outputs": [
        {
          "output_type": "stream",
          "text": [
            "    0   1   2   3   4   5   6   7   8   9\n",
            "0  25  59  67  78  34   2  84  99  72  15\n",
            "1  74  79  63  19  73  79  15  20  27  27\n",
            "2  76  45  88  75  78  12  80  53  72  69\n",
            "3  87  16  57  81  10  50   5  40  67  76\n",
            "4  15  32  41  47  95  86  66  44  47  28\n",
            "5  61  35  91  71  89  68  18  98  41  93\n",
            "6  78  75  43  84  17  81   6  11  20  24\n",
            "7  87  65  35  73  76  38  43  27  20  89\n",
            "8  73  40  96  64  50  21  58  56  55  55\n",
            "9  35  38  90  58  98  32  45  87  65  24\n"
          ],
          "name": "stdout"
        }
      ]
    },
    {
      "cell_type": "code",
      "metadata": {
        "id": "Qz-BymGX1IRX",
        "colab_type": "code",
        "colab": {}
      },
      "source": [
        ""
      ],
      "execution_count": null,
      "outputs": []
    }
  ]
}