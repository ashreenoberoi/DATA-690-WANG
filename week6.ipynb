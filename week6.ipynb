{
 "cells": [
  {
   "cell_type": "code",
   "execution_count": 1,
   "metadata": {},
   "outputs": [],
   "source": [
    "import pandas as pd\n"
   ]
  },
  {
   "cell_type": "markdown",
   "metadata": {},
   "source": [
    "Use Pandas read_html() function to retrive the HTML tables as dataframes from the web page: https://www.genealogybranches.com/censuscosts.html\n"
   ]
  },
  {
   "cell_type": "markdown",
   "metadata": {},
   "source": [
    "Find out how many HTML tables Pandas retrieves from the web page. Find out which dataframe contain the data and use it for further processing"
   ]
  },
  {
   "cell_type": "code",
   "execution_count": 2,
   "metadata": {},
   "outputs": [
    {
     "data": {
      "text/plain": [
       "2"
      ]
     },
     "execution_count": 2,
     "metadata": {},
     "output_type": "execute_result"
    }
   ],
   "source": [
    "df = pd.read_html(\"https://www.genealogybranches.com/censuscosts.html\")\n",
    "len(df)"
   ]
  },
  {
   "cell_type": "markdown",
   "metadata": {},
   "source": [
    "Display and explore the data (rows, columns, etc.) and determine the data quality (bad rows, bad columns, bad elements, null values, etc.)\n"
   ]
  },
  {
   "cell_type": "code",
   "execution_count": 3,
   "metadata": {},
   "outputs": [
    {
     "data": {
      "text/html": [
       "<div>\n",
       "<style scoped>\n",
       "    .dataframe tbody tr th:only-of-type {\n",
       "        vertical-align: middle;\n",
       "    }\n",
       "\n",
       "    .dataframe tbody tr th {\n",
       "        vertical-align: top;\n",
       "    }\n",
       "\n",
       "    .dataframe thead th {\n",
       "        text-align: right;\n",
       "    }\n",
       "</style>\n",
       "<table border=\"1\" class=\"dataframe\">\n",
       "  <thead>\n",
       "    <tr style=\"text-align: right;\">\n",
       "      <th></th>\n",
       "      <th>0</th>\n",
       "      <th>1</th>\n",
       "      <th>2</th>\n",
       "      <th>3</th>\n",
       "    </tr>\n",
       "  </thead>\n",
       "  <tbody>\n",
       "    <tr>\n",
       "      <th>0</th>\n",
       "      <td>Census Year</td>\n",
       "      <td>Total Population</td>\n",
       "      <td>Census Cost</td>\n",
       "      <td>Average Cost Per Person</td>\n",
       "    </tr>\n",
       "    <tr>\n",
       "      <th>1</th>\n",
       "      <td>1790</td>\n",
       "      <td>3929214</td>\n",
       "      <td>$44,377</td>\n",
       "      <td>1.13 cents</td>\n",
       "    </tr>\n",
       "    <tr>\n",
       "      <th>2</th>\n",
       "      <td>1800</td>\n",
       "      <td>5308483</td>\n",
       "      <td>$66,109</td>\n",
       "      <td>1.24 cents</td>\n",
       "    </tr>\n",
       "    <tr>\n",
       "      <th>3</th>\n",
       "      <td>1810</td>\n",
       "      <td>7239881</td>\n",
       "      <td>$178,445</td>\n",
       "      <td>2.46 cents</td>\n",
       "    </tr>\n",
       "    <tr>\n",
       "      <th>4</th>\n",
       "      <td>1820</td>\n",
       "      <td>9633822</td>\n",
       "      <td>$208,526</td>\n",
       "      <td>2.16 cents</td>\n",
       "    </tr>\n",
       "  </tbody>\n",
       "</table>\n",
       "</div>"
      ],
      "text/plain": [
       "             0                 1            2                        3\n",
       "0  Census Year  Total Population  Census Cost  Average Cost Per Person\n",
       "1         1790           3929214      $44,377               1.13 cents\n",
       "2         1800           5308483      $66,109               1.24 cents\n",
       "3         1810           7239881     $178,445               2.46 cents\n",
       "4         1820           9633822     $208,526               2.16 cents"
      ]
     },
     "execution_count": 3,
     "metadata": {},
     "output_type": "execute_result"
    }
   ],
   "source": [
    "df1 = df[0]\n",
    "df1.head()"
   ]
  },
  {
   "cell_type": "code",
   "execution_count": 4,
   "metadata": {
    "collapsed": true,
    "jupyter": {
     "outputs_hidden": true
    }
   },
   "outputs": [
    {
     "data": {
      "text/plain": [
       "[              0                 1               2                        3\n",
       " 0   Census Year  Total Population     Census Cost  Average Cost Per Person\n",
       " 1          1790           3929214         $44,377               1.13 cents\n",
       " 2          1800           5308483         $66,109               1.24 cents\n",
       " 3          1810           7239881        $178,445               2.46 cents\n",
       " 4          1820           9633822        $208,526               2.16 cents\n",
       " 5          1830          12866020        $378,545               2.94 cents\n",
       " 6          1840          17069458        $833,371               4.88 cents\n",
       " 7          1850          23191876      $1,423,351               6.14 cents\n",
       " 8          1860          31443321      $1,969,377               6.26 cents\n",
       " 9          1870          38558371      $3,421,198               8.87 cents\n",
       " 10         1880          50155783      $5,790,678              11.54 cents\n",
       " 11         1890          62979766     $11,547,127              18.33 cents\n",
       " 12         1900          76303387     $11,854,000              15.54 cents\n",
       " 13         1910          91972266     $15,968,000              17.07 cents\n",
       " 14         1920         105710620     $25,117,000              23.76 cents\n",
       " 15         1930         122775046     $40,156,000              32.71 cents\n",
       " 16         1940         131669275     $67,527,000              51.29 cents\n",
       " 17         1950         151325798     $91,462,000              60.44 cents\n",
       " 18         1960         179323175    $127,934,000              71.34 cents\n",
       " 19         1970         203302031    $247,653,000                    $1.22\n",
       " 20         1980         226542199  $1,078,488,000                    $4.76\n",
       " 21         1990         248718301  $2,492,830,000                   $10.02\n",
       " 22         2000         281421906    $4.5 Billion                   $15.99\n",
       " 23        2010*         308745538     $13 Billion                   $42.11,\n",
       "                                                    0\n",
       " 0  The U.S. population reached 300,000,000 on 17 ...]"
      ]
     },
     "execution_count": 4,
     "metadata": {},
     "output_type": "execute_result"
    }
   ],
   "source": [
    "df"
   ]
  },
  {
   "cell_type": "code",
   "execution_count": 5,
   "metadata": {},
   "outputs": [
    {
     "data": {
      "text/plain": [
       "Int64Index([0, 1, 2, 3], dtype='int64')"
      ]
     },
     "execution_count": 5,
     "metadata": {},
     "output_type": "execute_result"
    }
   ],
   "source": [
    "df1.columns\n"
   ]
  },
  {
   "cell_type": "code",
   "execution_count": 6,
   "metadata": {
    "collapsed": true,
    "jupyter": {
     "outputs_hidden": true
    }
   },
   "outputs": [
    {
     "data": {
      "text/plain": [
       "0                Census Year\n",
       "1           Total Population\n",
       "2                Census Cost\n",
       "3    Average Cost Per Person\n",
       "Name: 0, dtype: object"
      ]
     },
     "execution_count": 6,
     "metadata": {},
     "output_type": "execute_result"
    }
   ],
   "source": [
    "first_row = df1.iloc[0]\n",
    "first_row"
   ]
  },
  {
   "cell_type": "code",
   "execution_count": 7,
   "metadata": {
    "collapsed": true,
    "jupyter": {
     "outputs_hidden": true
    }
   },
   "outputs": [
    {
     "data": {
      "text/html": [
       "<div>\n",
       "<style scoped>\n",
       "    .dataframe tbody tr th:only-of-type {\n",
       "        vertical-align: middle;\n",
       "    }\n",
       "\n",
       "    .dataframe tbody tr th {\n",
       "        vertical-align: top;\n",
       "    }\n",
       "\n",
       "    .dataframe thead th {\n",
       "        text-align: right;\n",
       "    }\n",
       "</style>\n",
       "<table border=\"1\" class=\"dataframe\">\n",
       "  <thead>\n",
       "    <tr style=\"text-align: right;\">\n",
       "      <th></th>\n",
       "      <th>Census Year</th>\n",
       "      <th>Total Population</th>\n",
       "      <th>Census Cost</th>\n",
       "      <th>Average Cost Per Person</th>\n",
       "    </tr>\n",
       "  </thead>\n",
       "  <tbody>\n",
       "    <tr>\n",
       "      <th>0</th>\n",
       "      <td>Census Year</td>\n",
       "      <td>Total Population</td>\n",
       "      <td>Census Cost</td>\n",
       "      <td>Average Cost Per Person</td>\n",
       "    </tr>\n",
       "    <tr>\n",
       "      <th>1</th>\n",
       "      <td>1790</td>\n",
       "      <td>3929214</td>\n",
       "      <td>$44,377</td>\n",
       "      <td>1.13 cents</td>\n",
       "    </tr>\n",
       "    <tr>\n",
       "      <th>2</th>\n",
       "      <td>1800</td>\n",
       "      <td>5308483</td>\n",
       "      <td>$66,109</td>\n",
       "      <td>1.24 cents</td>\n",
       "    </tr>\n",
       "    <tr>\n",
       "      <th>3</th>\n",
       "      <td>1810</td>\n",
       "      <td>7239881</td>\n",
       "      <td>$178,445</td>\n",
       "      <td>2.46 cents</td>\n",
       "    </tr>\n",
       "    <tr>\n",
       "      <th>4</th>\n",
       "      <td>1820</td>\n",
       "      <td>9633822</td>\n",
       "      <td>$208,526</td>\n",
       "      <td>2.16 cents</td>\n",
       "    </tr>\n",
       "  </tbody>\n",
       "</table>\n",
       "</div>"
      ],
      "text/plain": [
       "0  Census Year  Total Population  Census Cost  Average Cost Per Person\n",
       "0  Census Year  Total Population  Census Cost  Average Cost Per Person\n",
       "1         1790           3929214      $44,377               1.13 cents\n",
       "2         1800           5308483      $66,109               1.24 cents\n",
       "3         1810           7239881     $178,445               2.46 cents\n",
       "4         1820           9633822     $208,526               2.16 cents"
      ]
     },
     "execution_count": 7,
     "metadata": {},
     "output_type": "execute_result"
    }
   ],
   "source": [
    "df1.columns = first_row\n",
    "df1.head()"
   ]
  },
  {
   "cell_type": "code",
   "execution_count": 8,
   "metadata": {
    "collapsed": true,
    "jupyter": {
     "outputs_hidden": true
    }
   },
   "outputs": [
    {
     "data": {
      "text/html": [
       "<div>\n",
       "<style scoped>\n",
       "    .dataframe tbody tr th:only-of-type {\n",
       "        vertical-align: middle;\n",
       "    }\n",
       "\n",
       "    .dataframe tbody tr th {\n",
       "        vertical-align: top;\n",
       "    }\n",
       "\n",
       "    .dataframe thead th {\n",
       "        text-align: right;\n",
       "    }\n",
       "</style>\n",
       "<table border=\"1\" class=\"dataframe\">\n",
       "  <thead>\n",
       "    <tr style=\"text-align: right;\">\n",
       "      <th></th>\n",
       "      <th>Census Year</th>\n",
       "      <th>Total Population</th>\n",
       "      <th>Census Cost</th>\n",
       "      <th>Average Cost Per Person</th>\n",
       "    </tr>\n",
       "  </thead>\n",
       "  <tbody>\n",
       "    <tr>\n",
       "      <th>0</th>\n",
       "      <td>Census Year</td>\n",
       "      <td>Total Population</td>\n",
       "      <td>Census Cost</td>\n",
       "      <td>Average Cost Per Person</td>\n",
       "    </tr>\n",
       "    <tr>\n",
       "      <th>1</th>\n",
       "      <td>1790</td>\n",
       "      <td>3929214</td>\n",
       "      <td>$44,377</td>\n",
       "      <td>1.13 cents</td>\n",
       "    </tr>\n",
       "    <tr>\n",
       "      <th>2</th>\n",
       "      <td>1800</td>\n",
       "      <td>5308483</td>\n",
       "      <td>$66,109</td>\n",
       "      <td>1.24 cents</td>\n",
       "    </tr>\n",
       "    <tr>\n",
       "      <th>3</th>\n",
       "      <td>1810</td>\n",
       "      <td>7239881</td>\n",
       "      <td>$178,445</td>\n",
       "      <td>2.46 cents</td>\n",
       "    </tr>\n",
       "    <tr>\n",
       "      <th>4</th>\n",
       "      <td>1820</td>\n",
       "      <td>9633822</td>\n",
       "      <td>$208,526</td>\n",
       "      <td>2.16 cents</td>\n",
       "    </tr>\n",
       "  </tbody>\n",
       "</table>\n",
       "</div>"
      ],
      "text/plain": [
       "0  Census Year  Total Population  Census Cost  Average Cost Per Person\n",
       "0  Census Year  Total Population  Census Cost  Average Cost Per Person\n",
       "1         1790           3929214      $44,377               1.13 cents\n",
       "2         1800           5308483      $66,109               1.24 cents\n",
       "3         1810           7239881     $178,445               2.46 cents\n",
       "4         1820           9633822     $208,526               2.16 cents"
      ]
     },
     "execution_count": 8,
     "metadata": {},
     "output_type": "execute_result"
    }
   ],
   "source": [
    "df1.head()\n"
   ]
  },
  {
   "cell_type": "code",
   "execution_count": 9,
   "metadata": {
    "collapsed": true,
    "jupyter": {
     "outputs_hidden": true
    }
   },
   "outputs": [
    {
     "data": {
      "text/html": [
       "<div>\n",
       "<style scoped>\n",
       "    .dataframe tbody tr th:only-of-type {\n",
       "        vertical-align: middle;\n",
       "    }\n",
       "\n",
       "    .dataframe tbody tr th {\n",
       "        vertical-align: top;\n",
       "    }\n",
       "\n",
       "    .dataframe thead th {\n",
       "        text-align: right;\n",
       "    }\n",
       "</style>\n",
       "<table border=\"1\" class=\"dataframe\">\n",
       "  <thead>\n",
       "    <tr style=\"text-align: right;\">\n",
       "      <th></th>\n",
       "      <th>Census Year</th>\n",
       "      <th>Total Population</th>\n",
       "      <th>Census Cost</th>\n",
       "      <th>Average Cost Per Person</th>\n",
       "    </tr>\n",
       "  </thead>\n",
       "  <tbody>\n",
       "    <tr>\n",
       "      <th>1</th>\n",
       "      <td>1790</td>\n",
       "      <td>3929214</td>\n",
       "      <td>$44,377</td>\n",
       "      <td>1.13 cents</td>\n",
       "    </tr>\n",
       "    <tr>\n",
       "      <th>2</th>\n",
       "      <td>1800</td>\n",
       "      <td>5308483</td>\n",
       "      <td>$66,109</td>\n",
       "      <td>1.24 cents</td>\n",
       "    </tr>\n",
       "    <tr>\n",
       "      <th>3</th>\n",
       "      <td>1810</td>\n",
       "      <td>7239881</td>\n",
       "      <td>$178,445</td>\n",
       "      <td>2.46 cents</td>\n",
       "    </tr>\n",
       "    <tr>\n",
       "      <th>4</th>\n",
       "      <td>1820</td>\n",
       "      <td>9633822</td>\n",
       "      <td>$208,526</td>\n",
       "      <td>2.16 cents</td>\n",
       "    </tr>\n",
       "    <tr>\n",
       "      <th>5</th>\n",
       "      <td>1830</td>\n",
       "      <td>12866020</td>\n",
       "      <td>$378,545</td>\n",
       "      <td>2.94 cents</td>\n",
       "    </tr>\n",
       "  </tbody>\n",
       "</table>\n",
       "</div>"
      ],
      "text/plain": [
       "0 Census Year Total Population Census Cost Average Cost Per Person\n",
       "1        1790          3929214     $44,377              1.13 cents\n",
       "2        1800          5308483     $66,109              1.24 cents\n",
       "3        1810          7239881    $178,445              2.46 cents\n",
       "4        1820          9633822    $208,526              2.16 cents\n",
       "5        1830         12866020    $378,545              2.94 cents"
      ]
     },
     "execution_count": 9,
     "metadata": {},
     "output_type": "execute_result"
    }
   ],
   "source": [
    "df1.drop([0], inplace=True)\n",
    "df1.head()\n"
   ]
  },
  {
   "cell_type": "markdown",
   "metadata": {},
   "source": [
    "Write a function named cleanse_year() that takes a string as input and removes any asterisks in the string and return the cleansed string. Test the function by using test strings (for example, \"1989*\", \"20*10\")"
   ]
  },
  {
   "cell_type": "code",
   "execution_count": 10,
   "metadata": {},
   "outputs": [],
   "source": [
    "def cleanse_cost(raw_cost):\n",
    "    cost = raw_cost.lstrip(\"$\").replace(\",\",\"\")\n",
    "    if  raw_cost.find(\"4.5\") != -1:          # if \"4.5\" in raw_cost:\n",
    "        cost = \"45\" + \"0\" * 8\n",
    "    elif raw_cost.find(\"Billion\") != -1:     # elif \"Billion\" in raw_cost: \n",
    "        cost = \"13\" + \"0\" * 9\n",
    "    return cost"
   ]
  },
  {
   "cell_type": "markdown",
   "metadata": {},
   "source": [
    "Cleanse the column \"Census Year\" using the function cleanse_year() and Pandas's apply() function.\n"
   ]
  },
  {
   "cell_type": "code",
   "execution_count": 19,
   "metadata": {},
   "outputs": [
    {
     "data": {
      "text/html": [
       "<div>\n",
       "<style scoped>\n",
       "    .dataframe tbody tr th:only-of-type {\n",
       "        vertical-align: middle;\n",
       "    }\n",
       "\n",
       "    .dataframe tbody tr th {\n",
       "        vertical-align: top;\n",
       "    }\n",
       "\n",
       "    .dataframe thead th {\n",
       "        text-align: right;\n",
       "    }\n",
       "</style>\n",
       "<table border=\"1\" class=\"dataframe\">\n",
       "  <thead>\n",
       "    <tr style=\"text-align: right;\">\n",
       "      <th></th>\n",
       "      <th>Census Year</th>\n",
       "      <th>Total Population</th>\n",
       "      <th>Census Cost</th>\n",
       "      <th>Average Cost Per Person</th>\n",
       "      <th>new cost</th>\n",
       "    </tr>\n",
       "  </thead>\n",
       "  <tbody>\n",
       "    <tr>\n",
       "      <th>1</th>\n",
       "      <td>1790</td>\n",
       "      <td>3929214</td>\n",
       "      <td>$44,377</td>\n",
       "      <td>1.13 cents</td>\n",
       "      <td>44377</td>\n",
       "    </tr>\n",
       "    <tr>\n",
       "      <th>2</th>\n",
       "      <td>1800</td>\n",
       "      <td>5308483</td>\n",
       "      <td>$66,109</td>\n",
       "      <td>1.24 cents</td>\n",
       "      <td>66109</td>\n",
       "    </tr>\n",
       "    <tr>\n",
       "      <th>3</th>\n",
       "      <td>1810</td>\n",
       "      <td>7239881</td>\n",
       "      <td>$178,445</td>\n",
       "      <td>2.46 cents</td>\n",
       "      <td>178445</td>\n",
       "    </tr>\n",
       "    <tr>\n",
       "      <th>4</th>\n",
       "      <td>1820</td>\n",
       "      <td>9633822</td>\n",
       "      <td>$208,526</td>\n",
       "      <td>2.16 cents</td>\n",
       "      <td>208526</td>\n",
       "    </tr>\n",
       "    <tr>\n",
       "      <th>5</th>\n",
       "      <td>1830</td>\n",
       "      <td>12866020</td>\n",
       "      <td>$378,545</td>\n",
       "      <td>2.94 cents</td>\n",
       "      <td>378545</td>\n",
       "    </tr>\n",
       "  </tbody>\n",
       "</table>\n",
       "</div>"
      ],
      "text/plain": [
       "0 Census Year Total Population Census Cost Average Cost Per Person new cost\n",
       "1        1790          3929214     $44,377              1.13 cents    44377\n",
       "2        1800          5308483     $66,109              1.24 cents    66109\n",
       "3        1810          7239881    $178,445              2.46 cents   178445\n",
       "4        1820          9633822    $208,526              2.16 cents   208526\n",
       "5        1830         12866020    $378,545              2.94 cents   378545"
      ]
     },
     "execution_count": 19,
     "metadata": {},
     "output_type": "execute_result"
    }
   ],
   "source": [
    "df1[\"new cost\"] = df1[\"Census Cost\"].apply(cleanse_cost)\n",
    "df1.head()\n"
   ]
  },
  {
   "cell_type": "code",
   "execution_count": 21,
   "metadata": {},
   "outputs": [
    {
     "data": {
      "text/plain": [
       "Index(['Census Year', 'Total Population', 'Census Cost',\n",
       "       'Average Cost Per Person', 'new cost'],\n",
       "      dtype='object', name=0)"
      ]
     },
     "execution_count": 21,
     "metadata": {},
     "output_type": "execute_result"
    }
   ],
   "source": [
    "df1.columns"
   ]
  },
  {
   "cell_type": "markdown",
   "metadata": {},
   "source": [
    "Repeat this process for column \"Total Population\", \"Census Cost\", \"Average Cost Per Person\". (define, test, and apply the function)\n"
   ]
  },
  {
   "cell_type": "code",
   "execution_count": 22,
   "metadata": {},
   "outputs": [
    {
     "data": {
      "text/html": [
       "<div>\n",
       "<style scoped>\n",
       "    .dataframe tbody tr th:only-of-type {\n",
       "        vertical-align: middle;\n",
       "    }\n",
       "\n",
       "    .dataframe tbody tr th {\n",
       "        vertical-align: top;\n",
       "    }\n",
       "\n",
       "    .dataframe thead th {\n",
       "        text-align: right;\n",
       "    }\n",
       "</style>\n",
       "<table border=\"1\" class=\"dataframe\">\n",
       "  <thead>\n",
       "    <tr style=\"text-align: right;\">\n",
       "      <th></th>\n",
       "      <th>Census Year</th>\n",
       "      <th>Total Population</th>\n",
       "      <th>Census Cost</th>\n",
       "      <th>Average Cost Per Person</th>\n",
       "      <th>new cost</th>\n",
       "      <th>new population</th>\n",
       "    </tr>\n",
       "  </thead>\n",
       "  <tbody>\n",
       "    <tr>\n",
       "      <th>1</th>\n",
       "      <td>1790</td>\n",
       "      <td>3929214</td>\n",
       "      <td>$44,377</td>\n",
       "      <td>1.13 cents</td>\n",
       "      <td>44377</td>\n",
       "      <td>3929214</td>\n",
       "    </tr>\n",
       "    <tr>\n",
       "      <th>2</th>\n",
       "      <td>1800</td>\n",
       "      <td>5308483</td>\n",
       "      <td>$66,109</td>\n",
       "      <td>1.24 cents</td>\n",
       "      <td>66109</td>\n",
       "      <td>5308483</td>\n",
       "    </tr>\n",
       "    <tr>\n",
       "      <th>3</th>\n",
       "      <td>1810</td>\n",
       "      <td>7239881</td>\n",
       "      <td>$178,445</td>\n",
       "      <td>2.46 cents</td>\n",
       "      <td>178445</td>\n",
       "      <td>7239881</td>\n",
       "    </tr>\n",
       "    <tr>\n",
       "      <th>4</th>\n",
       "      <td>1820</td>\n",
       "      <td>9633822</td>\n",
       "      <td>$208,526</td>\n",
       "      <td>2.16 cents</td>\n",
       "      <td>208526</td>\n",
       "      <td>9633822</td>\n",
       "    </tr>\n",
       "    <tr>\n",
       "      <th>5</th>\n",
       "      <td>1830</td>\n",
       "      <td>12866020</td>\n",
       "      <td>$378,545</td>\n",
       "      <td>2.94 cents</td>\n",
       "      <td>378545</td>\n",
       "      <td>12866020</td>\n",
       "    </tr>\n",
       "  </tbody>\n",
       "</table>\n",
       "</div>"
      ],
      "text/plain": [
       "0 Census Year Total Population Census Cost Average Cost Per Person new cost  \\\n",
       "1        1790          3929214     $44,377              1.13 cents    44377   \n",
       "2        1800          5308483     $66,109              1.24 cents    66109   \n",
       "3        1810          7239881    $178,445              2.46 cents   178445   \n",
       "4        1820          9633822    $208,526              2.16 cents   208526   \n",
       "5        1830         12866020    $378,545              2.94 cents   378545   \n",
       "\n",
       "0 new population  \n",
       "1        3929214  \n",
       "2        5308483  \n",
       "3        7239881  \n",
       "4        9633822  \n",
       "5       12866020  "
      ]
     },
     "execution_count": 22,
     "metadata": {},
     "output_type": "execute_result"
    }
   ],
   "source": [
    "df1[\"new population\"] = df1[\"Total Population\"].apply(cleanse_cost)\n",
    "df1.head()"
   ]
  },
  {
   "cell_type": "code",
   "execution_count": 23,
   "metadata": {},
   "outputs": [
    {
     "data": {
      "text/html": [
       "<div>\n",
       "<style scoped>\n",
       "    .dataframe tbody tr th:only-of-type {\n",
       "        vertical-align: middle;\n",
       "    }\n",
       "\n",
       "    .dataframe tbody tr th {\n",
       "        vertical-align: top;\n",
       "    }\n",
       "\n",
       "    .dataframe thead th {\n",
       "        text-align: right;\n",
       "    }\n",
       "</style>\n",
       "<table border=\"1\" class=\"dataframe\">\n",
       "  <thead>\n",
       "    <tr style=\"text-align: right;\">\n",
       "      <th></th>\n",
       "      <th>Census Year</th>\n",
       "      <th>Total Population</th>\n",
       "      <th>Census Cost</th>\n",
       "      <th>Average Cost Per Person</th>\n",
       "      <th>new cost</th>\n",
       "      <th>new population</th>\n",
       "      <th>new cost per person</th>\n",
       "    </tr>\n",
       "  </thead>\n",
       "  <tbody>\n",
       "    <tr>\n",
       "      <th>1</th>\n",
       "      <td>1790</td>\n",
       "      <td>3929214</td>\n",
       "      <td>$44,377</td>\n",
       "      <td>1.13 cents</td>\n",
       "      <td>44377</td>\n",
       "      <td>3929214</td>\n",
       "      <td>1.13 cents</td>\n",
       "    </tr>\n",
       "    <tr>\n",
       "      <th>2</th>\n",
       "      <td>1800</td>\n",
       "      <td>5308483</td>\n",
       "      <td>$66,109</td>\n",
       "      <td>1.24 cents</td>\n",
       "      <td>66109</td>\n",
       "      <td>5308483</td>\n",
       "      <td>1.24 cents</td>\n",
       "    </tr>\n",
       "    <tr>\n",
       "      <th>3</th>\n",
       "      <td>1810</td>\n",
       "      <td>7239881</td>\n",
       "      <td>$178,445</td>\n",
       "      <td>2.46 cents</td>\n",
       "      <td>178445</td>\n",
       "      <td>7239881</td>\n",
       "      <td>2.46 cents</td>\n",
       "    </tr>\n",
       "    <tr>\n",
       "      <th>4</th>\n",
       "      <td>1820</td>\n",
       "      <td>9633822</td>\n",
       "      <td>$208,526</td>\n",
       "      <td>2.16 cents</td>\n",
       "      <td>208526</td>\n",
       "      <td>9633822</td>\n",
       "      <td>2.16 cents</td>\n",
       "    </tr>\n",
       "    <tr>\n",
       "      <th>5</th>\n",
       "      <td>1830</td>\n",
       "      <td>12866020</td>\n",
       "      <td>$378,545</td>\n",
       "      <td>2.94 cents</td>\n",
       "      <td>378545</td>\n",
       "      <td>12866020</td>\n",
       "      <td>2.94 cents</td>\n",
       "    </tr>\n",
       "  </tbody>\n",
       "</table>\n",
       "</div>"
      ],
      "text/plain": [
       "0 Census Year Total Population Census Cost Average Cost Per Person new cost  \\\n",
       "1        1790          3929214     $44,377              1.13 cents    44377   \n",
       "2        1800          5308483     $66,109              1.24 cents    66109   \n",
       "3        1810          7239881    $178,445              2.46 cents   178445   \n",
       "4        1820          9633822    $208,526              2.16 cents   208526   \n",
       "5        1830         12866020    $378,545              2.94 cents   378545   \n",
       "\n",
       "0 new population new cost per person  \n",
       "1        3929214          1.13 cents  \n",
       "2        5308483          1.24 cents  \n",
       "3        7239881          2.46 cents  \n",
       "4        9633822          2.16 cents  \n",
       "5       12866020          2.94 cents  "
      ]
     },
     "execution_count": 23,
     "metadata": {},
     "output_type": "execute_result"
    }
   ],
   "source": [
    "df1[\"new cost per person\"] = df1[\"Average Cost Per Person\"].apply(cleanse_cost)\n",
    "df1.head()"
   ]
  },
  {
   "cell_type": "code",
   "execution_count": 24,
   "metadata": {},
   "outputs": [
    {
     "name": "stdout",
     "output_type": "stream",
     "text": [
      "<class 'pandas.core.frame.DataFrame'>\n",
      "Int64Index: 23 entries, 1 to 23\n",
      "Data columns (total 7 columns):\n",
      "Census Year                23 non-null object\n",
      "Total Population           23 non-null object\n",
      "Census Cost                23 non-null object\n",
      "Average Cost Per Person    23 non-null object\n",
      "new cost                   23 non-null object\n",
      "new population             23 non-null object\n",
      "new cost per person        23 non-null object\n",
      "dtypes: object(7)\n",
      "memory usage: 1.4+ KB\n"
     ]
    }
   ],
   "source": [
    "df1.info()\n"
   ]
  },
  {
   "cell_type": "code",
   "execution_count": 26,
   "metadata": {},
   "outputs": [
    {
     "data": {
      "text/html": [
       "<div>\n",
       "<style scoped>\n",
       "    .dataframe tbody tr th:only-of-type {\n",
       "        vertical-align: middle;\n",
       "    }\n",
       "\n",
       "    .dataframe tbody tr th {\n",
       "        vertical-align: top;\n",
       "    }\n",
       "\n",
       "    .dataframe thead th {\n",
       "        text-align: right;\n",
       "    }\n",
       "</style>\n",
       "<table border=\"1\" class=\"dataframe\">\n",
       "  <thead>\n",
       "    <tr style=\"text-align: right;\">\n",
       "      <th></th>\n",
       "      <th>Census Year</th>\n",
       "      <th>Total Population</th>\n",
       "      <th>Census Cost</th>\n",
       "      <th>Average Cost Per Person</th>\n",
       "      <th>new cost</th>\n",
       "      <th>new population</th>\n",
       "      <th>new cost per person</th>\n",
       "    </tr>\n",
       "  </thead>\n",
       "  <tbody>\n",
       "    <tr>\n",
       "      <th>count</th>\n",
       "      <td>23</td>\n",
       "      <td>23</td>\n",
       "      <td>23</td>\n",
       "      <td>23</td>\n",
       "      <td>23</td>\n",
       "      <td>23</td>\n",
       "      <td>23</td>\n",
       "    </tr>\n",
       "    <tr>\n",
       "      <th>unique</th>\n",
       "      <td>23</td>\n",
       "      <td>23</td>\n",
       "      <td>23</td>\n",
       "      <td>23</td>\n",
       "      <td>23</td>\n",
       "      <td>23</td>\n",
       "      <td>23</td>\n",
       "    </tr>\n",
       "    <tr>\n",
       "      <th>top</th>\n",
       "      <td>1930</td>\n",
       "      <td>122775046</td>\n",
       "      <td>$44,377</td>\n",
       "      <td>$4.76</td>\n",
       "      <td>1078488000</td>\n",
       "      <td>122775046</td>\n",
       "      <td>15.54 cents</td>\n",
       "    </tr>\n",
       "    <tr>\n",
       "      <th>freq</th>\n",
       "      <td>1</td>\n",
       "      <td>1</td>\n",
       "      <td>1</td>\n",
       "      <td>1</td>\n",
       "      <td>1</td>\n",
       "      <td>1</td>\n",
       "      <td>1</td>\n",
       "    </tr>\n",
       "  </tbody>\n",
       "</table>\n",
       "</div>"
      ],
      "text/plain": [
       "0      Census Year Total Population Census Cost Average Cost Per Person  \\\n",
       "count           23               23          23                      23   \n",
       "unique          23               23          23                      23   \n",
       "top           1930        122775046     $44,377                   $4.76   \n",
       "freq             1                1           1                       1   \n",
       "\n",
       "0         new cost new population new cost per person  \n",
       "count           23             23                  23  \n",
       "unique          23             23                  23  \n",
       "top     1078488000      122775046         15.54 cents  \n",
       "freq             1              1                   1  "
      ]
     },
     "execution_count": 26,
     "metadata": {},
     "output_type": "execute_result"
    }
   ],
   "source": [
    "df1.describe()\n"
   ]
  },
  {
   "cell_type": "code",
   "execution_count": 36,
   "metadata": {},
   "outputs": [],
   "source": [
    "df2= df1[['new cost','new population', 'new cost per person']] \n"
   ]
  },
  {
   "cell_type": "code",
   "execution_count": 37,
   "metadata": {},
   "outputs": [
    {
     "data": {
      "text/html": [
       "<div>\n",
       "<style scoped>\n",
       "    .dataframe tbody tr th:only-of-type {\n",
       "        vertical-align: middle;\n",
       "    }\n",
       "\n",
       "    .dataframe tbody tr th {\n",
       "        vertical-align: top;\n",
       "    }\n",
       "\n",
       "    .dataframe thead th {\n",
       "        text-align: right;\n",
       "    }\n",
       "</style>\n",
       "<table border=\"1\" class=\"dataframe\">\n",
       "  <thead>\n",
       "    <tr style=\"text-align: right;\">\n",
       "      <th></th>\n",
       "      <th>new cost</th>\n",
       "      <th>new population</th>\n",
       "      <th>new cost per person</th>\n",
       "    </tr>\n",
       "  </thead>\n",
       "  <tbody>\n",
       "    <tr>\n",
       "      <th>1</th>\n",
       "      <td>44377</td>\n",
       "      <td>3929214</td>\n",
       "      <td>1.13 cents</td>\n",
       "    </tr>\n",
       "    <tr>\n",
       "      <th>2</th>\n",
       "      <td>66109</td>\n",
       "      <td>5308483</td>\n",
       "      <td>1.24 cents</td>\n",
       "    </tr>\n",
       "    <tr>\n",
       "      <th>3</th>\n",
       "      <td>178445</td>\n",
       "      <td>7239881</td>\n",
       "      <td>2.46 cents</td>\n",
       "    </tr>\n",
       "    <tr>\n",
       "      <th>4</th>\n",
       "      <td>208526</td>\n",
       "      <td>9633822</td>\n",
       "      <td>2.16 cents</td>\n",
       "    </tr>\n",
       "    <tr>\n",
       "      <th>5</th>\n",
       "      <td>378545</td>\n",
       "      <td>12866020</td>\n",
       "      <td>2.94 cents</td>\n",
       "    </tr>\n",
       "    <tr>\n",
       "      <th>6</th>\n",
       "      <td>833371</td>\n",
       "      <td>17069458</td>\n",
       "      <td>4.88 cents</td>\n",
       "    </tr>\n",
       "    <tr>\n",
       "      <th>7</th>\n",
       "      <td>1423351</td>\n",
       "      <td>23191876</td>\n",
       "      <td>6.14 cents</td>\n",
       "    </tr>\n",
       "    <tr>\n",
       "      <th>8</th>\n",
       "      <td>1969377</td>\n",
       "      <td>31443321</td>\n",
       "      <td>6.26 cents</td>\n",
       "    </tr>\n",
       "    <tr>\n",
       "      <th>9</th>\n",
       "      <td>3421198</td>\n",
       "      <td>38558371</td>\n",
       "      <td>8.87 cents</td>\n",
       "    </tr>\n",
       "    <tr>\n",
       "      <th>10</th>\n",
       "      <td>5790678</td>\n",
       "      <td>50155783</td>\n",
       "      <td>11.54 cents</td>\n",
       "    </tr>\n",
       "    <tr>\n",
       "      <th>11</th>\n",
       "      <td>11547127</td>\n",
       "      <td>62979766</td>\n",
       "      <td>18.33 cents</td>\n",
       "    </tr>\n",
       "    <tr>\n",
       "      <th>12</th>\n",
       "      <td>11854000</td>\n",
       "      <td>76303387</td>\n",
       "      <td>15.54 cents</td>\n",
       "    </tr>\n",
       "    <tr>\n",
       "      <th>13</th>\n",
       "      <td>15968000</td>\n",
       "      <td>91972266</td>\n",
       "      <td>17.07 cents</td>\n",
       "    </tr>\n",
       "    <tr>\n",
       "      <th>14</th>\n",
       "      <td>25117000</td>\n",
       "      <td>105710620</td>\n",
       "      <td>23.76 cents</td>\n",
       "    </tr>\n",
       "    <tr>\n",
       "      <th>15</th>\n",
       "      <td>40156000</td>\n",
       "      <td>122775046</td>\n",
       "      <td>32.71 cents</td>\n",
       "    </tr>\n",
       "    <tr>\n",
       "      <th>16</th>\n",
       "      <td>67527000</td>\n",
       "      <td>131669275</td>\n",
       "      <td>51.29 cents</td>\n",
       "    </tr>\n",
       "    <tr>\n",
       "      <th>17</th>\n",
       "      <td>91462000</td>\n",
       "      <td>151325798</td>\n",
       "      <td>60.44 cents</td>\n",
       "    </tr>\n",
       "    <tr>\n",
       "      <th>18</th>\n",
       "      <td>127934000</td>\n",
       "      <td>179323175</td>\n",
       "      <td>71.34 cents</td>\n",
       "    </tr>\n",
       "    <tr>\n",
       "      <th>19</th>\n",
       "      <td>247653000</td>\n",
       "      <td>203302031</td>\n",
       "      <td>1.22</td>\n",
       "    </tr>\n",
       "    <tr>\n",
       "      <th>20</th>\n",
       "      <td>1078488000</td>\n",
       "      <td>226542199</td>\n",
       "      <td>4.76</td>\n",
       "    </tr>\n",
       "    <tr>\n",
       "      <th>21</th>\n",
       "      <td>2492830000</td>\n",
       "      <td>248718301</td>\n",
       "      <td>10.02</td>\n",
       "    </tr>\n",
       "    <tr>\n",
       "      <th>22</th>\n",
       "      <td>4500000000</td>\n",
       "      <td>281421906</td>\n",
       "      <td>15.99</td>\n",
       "    </tr>\n",
       "    <tr>\n",
       "      <th>23</th>\n",
       "      <td>13000000000</td>\n",
       "      <td>308745538</td>\n",
       "      <td>42.11</td>\n",
       "    </tr>\n",
       "  </tbody>\n",
       "</table>\n",
       "</div>"
      ],
      "text/plain": [
       "0      new cost new population new cost per person\n",
       "1         44377        3929214          1.13 cents\n",
       "2         66109        5308483          1.24 cents\n",
       "3        178445        7239881          2.46 cents\n",
       "4        208526        9633822          2.16 cents\n",
       "5        378545       12866020          2.94 cents\n",
       "6        833371       17069458          4.88 cents\n",
       "7       1423351       23191876          6.14 cents\n",
       "8       1969377       31443321          6.26 cents\n",
       "9       3421198       38558371          8.87 cents\n",
       "10      5790678       50155783         11.54 cents\n",
       "11     11547127       62979766         18.33 cents\n",
       "12     11854000       76303387         15.54 cents\n",
       "13     15968000       91972266         17.07 cents\n",
       "14     25117000      105710620         23.76 cents\n",
       "15     40156000      122775046         32.71 cents\n",
       "16     67527000      131669275         51.29 cents\n",
       "17     91462000      151325798         60.44 cents\n",
       "18    127934000      179323175         71.34 cents\n",
       "19    247653000      203302031                1.22\n",
       "20   1078488000      226542199                4.76\n",
       "21   2492830000      248718301               10.02\n",
       "22   4500000000      281421906               15.99\n",
       "23  13000000000      308745538               42.11"
      ]
     },
     "execution_count": 37,
     "metadata": {},
     "output_type": "execute_result"
    }
   ],
   "source": [
    "df2"
   ]
  },
  {
   "cell_type": "markdown",
   "metadata": {},
   "source": [
    "After all columns are cleansed, save the clenased dataframe to a file named \"census_cost_cleansed.csv\" using CSV format.\n"
   ]
  },
  {
   "cell_type": "code",
   "execution_count": 28,
   "metadata": {},
   "outputs": [],
   "source": [
    "import csv\n",
    "with open('census_cost.csv', 'r', newline='') as f:\n",
    "    fieldnames = ['year_list','pop_list','cost_list','avg_list']\n",
    "    thewriter = csv.DictWriter(f, fieldnames= fieldnames)"
   ]
  },
  {
   "cell_type": "code",
   "execution_count": 29,
   "metadata": {},
   "outputs": [
    {
     "name": "stdout",
     "output_type": "stream",
     "text": [
      "<csv.DictWriter object at 0x0000010D422E9940>\n"
     ]
    }
   ],
   "source": [
    "print(thewriter)"
   ]
  },
  {
   "cell_type": "code",
   "execution_count": 45,
   "metadata": {},
   "outputs": [],
   "source": [
    "df2.to_csv(r'C:\\Users\\Sunny\\Desktop\\data 690/census_cost_cleansed.csv', index = False)\n"
   ]
  },
  {
   "cell_type": "code",
   "execution_count": 47,
   "metadata": {},
   "outputs": [],
   "source": [
    "df3=pd.read_csv(\"census_cost_cleansed.csv\") \n"
   ]
  },
  {
   "cell_type": "code",
   "execution_count": 48,
   "metadata": {},
   "outputs": [
    {
     "data": {
      "text/html": [
       "<div>\n",
       "<style scoped>\n",
       "    .dataframe tbody tr th:only-of-type {\n",
       "        vertical-align: middle;\n",
       "    }\n",
       "\n",
       "    .dataframe tbody tr th {\n",
       "        vertical-align: top;\n",
       "    }\n",
       "\n",
       "    .dataframe thead th {\n",
       "        text-align: right;\n",
       "    }\n",
       "</style>\n",
       "<table border=\"1\" class=\"dataframe\">\n",
       "  <thead>\n",
       "    <tr style=\"text-align: right;\">\n",
       "      <th></th>\n",
       "      <th>new cost</th>\n",
       "      <th>new population</th>\n",
       "      <th>new cost per person</th>\n",
       "    </tr>\n",
       "  </thead>\n",
       "  <tbody>\n",
       "    <tr>\n",
       "      <th>0</th>\n",
       "      <td>44377</td>\n",
       "      <td>3929214</td>\n",
       "      <td>1.13 cents</td>\n",
       "    </tr>\n",
       "    <tr>\n",
       "      <th>1</th>\n",
       "      <td>66109</td>\n",
       "      <td>5308483</td>\n",
       "      <td>1.24 cents</td>\n",
       "    </tr>\n",
       "    <tr>\n",
       "      <th>2</th>\n",
       "      <td>178445</td>\n",
       "      <td>7239881</td>\n",
       "      <td>2.46 cents</td>\n",
       "    </tr>\n",
       "    <tr>\n",
       "      <th>3</th>\n",
       "      <td>208526</td>\n",
       "      <td>9633822</td>\n",
       "      <td>2.16 cents</td>\n",
       "    </tr>\n",
       "    <tr>\n",
       "      <th>4</th>\n",
       "      <td>378545</td>\n",
       "      <td>12866020</td>\n",
       "      <td>2.94 cents</td>\n",
       "    </tr>\n",
       "  </tbody>\n",
       "</table>\n",
       "</div>"
      ],
      "text/plain": [
       "   new cost  new population new cost per person\n",
       "0     44377         3929214          1.13 cents\n",
       "1     66109         5308483          1.24 cents\n",
       "2    178445         7239881          2.46 cents\n",
       "3    208526         9633822          2.16 cents\n",
       "4    378545        12866020          2.94 cents"
      ]
     },
     "execution_count": 48,
     "metadata": {},
     "output_type": "execute_result"
    }
   ],
   "source": [
    "df3.head()"
   ]
  },
  {
   "cell_type": "code",
   "execution_count": 49,
   "metadata": {},
   "outputs": [
    {
     "data": {
      "text/html": [
       "<div>\n",
       "<style scoped>\n",
       "    .dataframe tbody tr th:only-of-type {\n",
       "        vertical-align: middle;\n",
       "    }\n",
       "\n",
       "    .dataframe tbody tr th {\n",
       "        vertical-align: top;\n",
       "    }\n",
       "\n",
       "    .dataframe thead th {\n",
       "        text-align: right;\n",
       "    }\n",
       "</style>\n",
       "<table border=\"1\" class=\"dataframe\">\n",
       "  <thead>\n",
       "    <tr style=\"text-align: right;\">\n",
       "      <th></th>\n",
       "      <th>new cost</th>\n",
       "      <th>new population</th>\n",
       "      <th>new cost per person</th>\n",
       "    </tr>\n",
       "  </thead>\n",
       "  <tbody>\n",
       "    <tr>\n",
       "      <th>18</th>\n",
       "      <td>247653000</td>\n",
       "      <td>203302031</td>\n",
       "      <td>1.22</td>\n",
       "    </tr>\n",
       "    <tr>\n",
       "      <th>19</th>\n",
       "      <td>1078488000</td>\n",
       "      <td>226542199</td>\n",
       "      <td>4.76</td>\n",
       "    </tr>\n",
       "    <tr>\n",
       "      <th>20</th>\n",
       "      <td>2492830000</td>\n",
       "      <td>248718301</td>\n",
       "      <td>10.02</td>\n",
       "    </tr>\n",
       "    <tr>\n",
       "      <th>21</th>\n",
       "      <td>4500000000</td>\n",
       "      <td>281421906</td>\n",
       "      <td>15.99</td>\n",
       "    </tr>\n",
       "    <tr>\n",
       "      <th>22</th>\n",
       "      <td>13000000000</td>\n",
       "      <td>308745538</td>\n",
       "      <td>42.11</td>\n",
       "    </tr>\n",
       "  </tbody>\n",
       "</table>\n",
       "</div>"
      ],
      "text/plain": [
       "       new cost  new population new cost per person\n",
       "18    247653000       203302031                1.22\n",
       "19   1078488000       226542199                4.76\n",
       "20   2492830000       248718301               10.02\n",
       "21   4500000000       281421906               15.99\n",
       "22  13000000000       308745538               42.11"
      ]
     },
     "execution_count": 49,
     "metadata": {},
     "output_type": "execute_result"
    }
   ],
   "source": [
    "df3.tail()"
   ]
  },
  {
   "cell_type": "code",
   "execution_count": null,
   "metadata": {},
   "outputs": [],
   "source": []
  }
 ],
 "metadata": {
  "kernelspec": {
   "display_name": "Python 3",
   "language": "python",
   "name": "python3"
  },
  "language_info": {
   "codemirror_mode": {
    "name": "ipython",
    "version": 3
   },
   "file_extension": ".py",
   "mimetype": "text/x-python",
   "name": "python",
   "nbconvert_exporter": "python",
   "pygments_lexer": "ipython3",
   "version": "3.7.3"
  }
 },
 "nbformat": 4,
 "nbformat_minor": 4
}
