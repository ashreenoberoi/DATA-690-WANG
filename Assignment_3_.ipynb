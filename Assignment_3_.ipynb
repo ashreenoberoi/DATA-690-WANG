{
  "nbformat": 4,
  "nbformat_minor": 0,
  "metadata": {
    "colab": {
      "name": "Assignment 3 .ipynb",
      "provenance": [],
      "collapsed_sections": []
    },
    "kernelspec": {
      "name": "python3",
      "display_name": "Python 3"
    }
  },
  "cells": [
    {
      "cell_type": "code",
      "metadata": {
        "id": "SjWE8NEkEyM1",
        "outputId": "3ffd88ae-ac50-4689-d8dd-06b5b18155d7",
        "colab": {
          "base_uri": "https://localhost:8080/",
          "height": 187
        }
      },
      "source": [
        "import random\n",
        "\n",
        "low = 0\n",
        "high = 9\n",
        "cols = 10\n",
        "rows = 10\n",
        "for i in range(0,cols):\n",
        "    for j in range(0,rows):\n",
        "        val = random.randint(low,high)\n",
        "        print(val, end =\" \")\n",
        "    print('')"
      ],
      "execution_count": 1,
      "outputs": [
        {
          "output_type": "stream",
          "text": [
            "8 9 8 8 4 8 4 8 7 2 \n",
            "2 7 3 1 9 1 3 6 8 6 \n",
            "3 8 8 6 5 1 2 4 9 5 \n",
            "1 9 2 2 2 9 7 0 2 1 \n",
            "0 4 0 3 4 9 7 6 4 8 \n",
            "6 8 9 3 2 9 4 3 1 0 \n",
            "0 2 5 3 6 9 3 4 7 7 \n",
            "0 0 5 5 0 1 5 5 6 5 \n",
            "6 5 6 0 5 3 7 5 8 6 \n",
            "0 8 9 0 0 0 7 1 3 3 \n"
          ],
          "name": "stdout"
        }
      ]
    },
    {
      "cell_type": "markdown",
      "metadata": {
        "id": "LUtU0weJGSWl"
      },
      "source": [
        "```\n",
        "2. If the random number is an odd number, print \"@\" instead.  like the following:\n",
        "@ @ 0 2 6 @ 8 8 0 0 \n",
        "@ 4 @ 4 4 @ 2 @ 2 2 \n",
        "@ 6 8 @ @ @ 0 @ 0 @ \n",
        "2 6 @ 0 @ 2 @ @ 0 @ \n",
        "8 4 @ @ @ 0 @ @ 6 @ \n",
        "@ @ 4 6 @ @ @ 2 @ 2 \n",
        "@ @ @ @ 4 @ @ 2 2 0 \n",
        "@ 6 @ 0 0 8 @ 2 0 @ \n",
        "8 8 @ @ @ 0 0 @ 4 6 \n",
        "@ 2 2 6 8 2 @ @ @ 6\n",
        "\n"
      ]
    },
    {
      "cell_type": "code",
      "metadata": {
        "id": "0ZJYCrP1E3t7",
        "outputId": "88e9efb2-b47a-4fc0-ac0d-3bc345eaca72",
        "colab": {
          "base_uri": "https://localhost:8080/",
          "height": 357
        }
      },
      "source": [
        "from random import randint\n",
        "\n",
        "for i in range(0,10):\n",
        "  for j in range(0,10):\n",
        "    value = randint(0,9)\n",
        "    if value%2 != 0:\n",
        "      value = \"@\"\n",
        "    print (value, '', end =\"\")\n",
        "  print('\\n')"
      ],
      "execution_count": 3,
      "outputs": [
        {
          "output_type": "stream",
          "text": [
            "@ 0 6 @ @ @ @ @ @ @ \n",
            "\n",
            "@ @ 4 @ @ @ @ @ 6 0 \n",
            "\n",
            "@ 4 @ 2 0 @ @ @ @ @ \n",
            "\n",
            "@ 4 2 @ 4 @ 2 @ 6 @ \n",
            "\n",
            "@ 2 8 8 2 @ @ 6 8 2 \n",
            "\n",
            "@ 8 4 @ 4 @ 8 @ @ 0 \n",
            "\n",
            "4 @ @ @ @ @ @ @ 4 @ \n",
            "\n",
            "@ 4 2 @ @ 4 0 @ @ 8 \n",
            "\n",
            "@ 0 4 4 @ 4 4 0 0 @ \n",
            "\n",
            "8 6 0 4 2 0 2 4 @ 2 \n",
            "\n"
          ],
          "name": "stdout"
        }
      ]
    },
    {
      "cell_type": "markdown",
      "metadata": {
        "id": "887VpvDIFHeI"
      },
      "source": [
        "3. Calculate and Print the total of each row like the following (use \"*\" to separate the total from the numbers):\n",
        "```\n",
        "7 6 5 8 8 0 7 6 0 1 * 48 \n",
        "8 5 7 9 8 0 9 3 0 1 * 50 \n",
        "4 0 3 5 3 9 0 8 3 9 * 44 \n",
        "3 5 5 3 8 3 4 3 2 2 * 38 \n",
        "7 7 4 1 2 7 2 3 0 8 * 41 \n",
        "3 9 7 7 0 9 4 0 6 5 * 50 \n",
        "1 9 7 1 3 0 0 1 4 5 * 31 \n",
        "4 4 0 6 7 4 5 6 9 3 * 48 \n",
        "2 1 1 4 2 0 1 2 9 2 * 24\n",
        "2 1 6 7 7 8 1 0 0 4 * 36\n",
        "```\n",
        "\n",
        "---\n",
        "\n"
      ]
    },
    {
      "cell_type": "code",
      "metadata": {
        "id": "zyANzJ9EE_aB",
        "outputId": "e048cd79-2f84-41ba-af0a-b868ff91acba",
        "colab": {
          "base_uri": "https://localhost:8080/",
          "height": 187
        }
      },
      "source": [
        "sum1 = 0\n",
        "for i in range (0,10):\n",
        "  sum1= 0\n",
        "  for j in range(0,10):\n",
        "    value = randint(0,9)\n",
        "    sum1 = sum1+value\n",
        "    print(value, '', end=\"\")\n",
        "  print('*', sum1)"
      ],
      "execution_count": 4,
      "outputs": [
        {
          "output_type": "stream",
          "text": [
            "3 9 2 9 8 0 1 3 2 0 * 37\n",
            "4 4 2 4 8 4 1 4 9 9 * 49\n",
            "5 5 9 4 3 5 0 8 2 9 * 50\n",
            "4 2 7 5 1 8 6 3 3 4 * 43\n",
            "5 9 8 1 5 4 8 4 0 7 * 51\n",
            "5 5 9 9 6 4 9 3 0 1 * 51\n",
            "4 4 1 0 1 5 6 6 3 0 * 30\n",
            "8 5 0 6 5 0 3 3 6 0 * 36\n",
            "9 4 6 7 9 0 7 7 9 2 * 60\n",
            "8 6 3 3 6 6 5 1 5 3 * 46\n"
          ],
          "name": "stdout"
        }
      ]
    },
    {
      "cell_type": "code",
      "metadata": {
        "id": "PAWyHI5RFP1H"
      },
      "source": [
        ""
      ],
      "execution_count": null,
      "outputs": []
    }
  ]
}