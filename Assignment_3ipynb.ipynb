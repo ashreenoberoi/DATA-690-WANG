{
  "nbformat": 4,
  "nbformat_minor": 0,
  "metadata": {
    "colab": {
      "name": "Assignment 3ipynb",
      "provenance": [],
      "collapsed_sections": []
    },
    "kernelspec": {
      "name": "python3",
      "display_name": "Python 3"
    }
  },
  "cells": [
    {
      "cell_type": "markdown",
      "metadata": {
        "id": "SDQ9pZ9t1UmC",
        "colab_type": "text"
      },
      "source": [
        "If the random number is an odd number, print \"@\" instead. like the following:"
      ]
    },
    {
      "cell_type": "code",
      "metadata": {
        "id": "l43_pLaWcuIn",
        "colab_type": "code",
        "colab": {
          "base_uri": "https://localhost:8080/",
          "height": 357
        },
        "outputId": "fca158c3-5c36-49ec-90ef-7fb04f193af6"
      },
      "source": [
        "for i in range(0,10):\n",
        "  for j in range(0,10):\n",
        "    value = randint(0,9)\n",
        "    if value%2 != 0:\n",
        "      value = \"@\"\n",
        "    print (value, '', end =\"\")\n",
        "  print('\\n')"
      ],
      "execution_count": 4,
      "outputs": [
        {
          "output_type": "stream",
          "text": [
            "2 @ @ @ @ 2 0 0 @ @ \n",
            "\n",
            "6 @ 2 0 2 2 @ @ 6 @ \n",
            "\n",
            "0 0 @ @ 4 @ @ 2 8 2 \n",
            "\n",
            "@ 0 8 0 @ 0 8 @ 8 @ \n",
            "\n",
            "@ 2 8 4 @ @ 6 @ 8 2 \n",
            "\n",
            "8 4 0 0 6 4 @ 4 @ @ \n",
            "\n",
            "6 @ 2 @ @ 6 8 @ 8 2 \n",
            "\n",
            "4 @ @ @ @ @ @ 2 8 8 \n",
            "\n",
            "@ @ 0 0 @ @ 6 2 @ @ \n",
            "\n",
            "8 0 @ @ 2 @ 6 @ @ 6 \n",
            "\n"
          ],
          "name": "stdout"
        }
      ]
    },
    {
      "cell_type": "markdown",
      "metadata": {
        "id": "v4iXjzwe1hhl",
        "colab_type": "text"
      },
      "source": [
        "Calculate and Print the total of each row like the following (use \"*\" to separate the total from the numbers):\n"
      ]
    },
    {
      "cell_type": "code",
      "metadata": {
        "id": "3QNOXs2stUbS",
        "colab_type": "code",
        "colab": {
          "base_uri": "https://localhost:8080/",
          "height": 187
        },
        "outputId": "8e783657-af2f-4d40-cd96-3311dd47e187"
      },
      "source": [
        "sum1 = 0\n",
        "for i in range (0,10):\n",
        "  for j in range(0,10):\n",
        "    value = randint(0,9)\n",
        "    sum1 = sum1+value\n",
        "    print(value, '', end=\"\")\n",
        "  print('*', sum1)"
      ],
      "execution_count": 5,
      "outputs": [
        {
          "output_type": "stream",
          "text": [
            "0 9 7 3 9 1 3 1 0 4 * 37\n",
            "0 2 2 9 1 6 3 5 3 0 * 68\n",
            "0 0 0 1 4 2 6 9 6 4 * 100\n",
            "6 7 0 2 9 8 7 1 0 3 * 143\n",
            "3 4 1 7 6 6 5 3 6 1 * 185\n",
            "1 4 9 9 9 6 0 7 9 1 * 240\n",
            "5 3 6 0 5 5 5 6 9 9 * 293\n",
            "3 0 5 5 1 5 6 2 6 3 * 329\n",
            "4 4 3 1 5 9 5 4 6 8 * 378\n",
            "8 4 4 0 8 3 8 0 8 8 * 429\n"
          ],
          "name": "stdout"
        }
      ]
    },
    {
      "cell_type": "markdown",
      "metadata": {
        "id": "pE5-T7BU1lL8",
        "colab_type": "text"
      },
      "source": [
        "Print them in a 10 by 10 matrix neatly arranged like the following (one space between each number):"
      ]
    },
    {
      "cell_type": "code",
      "metadata": {
        "id": "v_-ymF-Wu81x",
        "colab_type": "code",
        "colab": {
          "base_uri": "https://localhost:8080/",
          "height": 204
        },
        "outputId": "51155c08-748e-4c09-c4ca-2983fffcf888"
      },
      "source": [
        "import pandas as pd\n",
        "from random import randint\n",
        "\n",
        "outside_size = 10 # How many nested lists to include\n",
        "inside_size = 10  # How many numbers will be in an inside list\n",
        "outside_list = [] # The final list\n",
        "for i in range(0, outside_size, 1):\n",
        "    _list = [] # Create new \"inside\" (nested) list\n",
        "    for j in range(0, inside_size, 1): # Populate the nested list with random numbers\n",
        "        _list.append(randint(0, 100))\n",
        "    outside_list.append(_list) # Add the inside (nested) list to the outside (final) list\n",
        "\n",
        "df = pd.DataFrame(outside_list) # Create the dataframe from it\n",
        "print(df)"
      ],
      "execution_count": 6,
      "outputs": [
        {
          "output_type": "stream",
          "text": [
            "    0   1   2   3    4   5   6   7   8   9\n",
            "0  94  51  94  96   72   6  81  95   6  28\n",
            "1  80  36  65  70   26   0  47  36   2  89\n",
            "2  44  11  14  31   96  80  84  38  37  97\n",
            "3   8  51  58  90    6  62  43  59  16  82\n",
            "4  63  91  99  92   41  17  77  16  86  82\n",
            "5  35  30  61  49   79  45  59  14  34  74\n",
            "6  72  66  87  26   21  37  90  68  73  93\n",
            "7  11   6  93  12   84  39   2  33  58  36\n",
            "8  37  53  93  24   67  20  97  61  87  75\n",
            "9  76   9  26   1  100  17  77   2  14  75\n"
          ],
          "name": "stdout"
        }
      ]
    },
    {
      "cell_type": "code",
      "metadata": {
        "id": "Qz-BymGX1IRX",
        "colab_type": "code",
        "colab": {}
      },
      "source": [
        ""
      ],
      "execution_count": null,
      "outputs": []
    }
  ]
}