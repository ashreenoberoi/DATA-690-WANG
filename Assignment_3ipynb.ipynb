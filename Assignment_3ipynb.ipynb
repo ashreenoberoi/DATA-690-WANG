{
  "nbformat": 4,
  "nbformat_minor": 0,
  "metadata": {
    "colab": {
      "name": "Assignment 3ipynb",
      "provenance": []
    },
    "kernelspec": {
      "name": "python3",
      "display_name": "Python 3"
    }
  },
  "cells": [
    {
      "cell_type": "code",
      "metadata": {
        "id": "f-hY42oMcLlp",
        "colab_type": "code",
        "colab": {}
      },
      "source": [
        "import random\n",
        "from random import randint"
      ],
      "execution_count": 5,
      "outputs": []
    },
    {
      "cell_type": "code",
      "metadata": {
        "id": "gh-3YaBvcMwt",
        "colab_type": "code",
        "colab": {}
      },
      "source": [
        "low = 0\n",
        "high = 10\n",
        "cols = 10\n",
        "rows = 10"
      ],
      "execution_count": 6,
      "outputs": []
    },
    {
      "cell_type": "code",
      "metadata": {
        "id": "j2a7ai31cpc0",
        "colab_type": "code",
        "colab": {
          "base_uri": "https://localhost:8080/",
          "height": 187
        },
        "outputId": "f9cef886-00fd-41df-8f66-c0adf65d05b1"
      },
      "source": [
        "[random.choices(range(low,high), k=cols) for _ in range(rows)]\n"
      ],
      "execution_count": 7,
      "outputs": [
        {
          "output_type": "execute_result",
          "data": {
            "text/plain": [
              "[[7, 8, 6, 9, 2, 0, 6, 0, 5, 4],\n",
              " [0, 4, 1, 4, 6, 2, 6, 7, 1, 1],\n",
              " [2, 1, 8, 9, 7, 9, 4, 7, 6, 5],\n",
              " [7, 7, 9, 2, 3, 7, 8, 6, 1, 1],\n",
              " [6, 4, 3, 3, 9, 5, 3, 2, 7, 4],\n",
              " [0, 0, 6, 3, 8, 5, 1, 2, 3, 0],\n",
              " [3, 9, 3, 3, 8, 7, 2, 3, 4, 2],\n",
              " [7, 1, 5, 1, 7, 8, 6, 3, 2, 4],\n",
              " [1, 8, 1, 1, 5, 8, 8, 6, 2, 4],\n",
              " [0, 2, 4, 9, 1, 5, 4, 4, 3, 3]]"
            ]
          },
          "metadata": {
            "tags": []
          },
          "execution_count": 7
        }
      ]
    },
    {
      "cell_type": "code",
      "metadata": {
        "id": "l43_pLaWcuIn",
        "colab_type": "code",
        "colab": {
          "base_uri": "https://localhost:8080/",
          "height": 357
        },
        "outputId": "b1bc3e40-1ce9-406a-9907-3598247d6700"
      },
      "source": [
        "for i in range(0,10):\n",
        "  for j in range(0,10):\n",
        "    value = randint(0,9)\n",
        "    if value%2 != 0:\n",
        "      value = \"@\"\n",
        "    print (value, '', end =\"\")\n",
        "  print('\\n')"
      ],
      "execution_count": 9,
      "outputs": [
        {
          "output_type": "stream",
          "text": [
            "6 @ 4 0 @ 2 6 8 @ 4 \n",
            "\n",
            "@ @ @ 4 @ 2 @ 8 4 @ \n",
            "\n",
            "@ 0 0 2 @ 4 2 2 @ 4 \n",
            "\n",
            "4 @ @ 8 4 @ 4 @ @ @ \n",
            "\n",
            "@ 8 4 8 @ @ @ @ 4 6 \n",
            "\n",
            "0 8 @ @ @ 8 @ @ 8 8 \n",
            "\n",
            "@ @ 8 @ @ 6 6 @ @ @ \n",
            "\n",
            "4 6 @ @ @ 2 8 8 @ @ \n",
            "\n",
            "@ @ @ 6 4 @ @ 4 @ @ \n",
            "\n",
            "8 6 @ 4 @ @ @ @ @ @ \n",
            "\n"
          ],
          "name": "stdout"
        }
      ]
    },
    {
      "cell_type": "code",
      "metadata": {
        "id": "3QNOXs2stUbS",
        "colab_type": "code",
        "colab": {
          "base_uri": "https://localhost:8080/",
          "height": 187
        },
        "outputId": "ea429a3c-c0b9-4ae5-c537-ba8f9b485357"
      },
      "source": [
        "sum1 = 0\n",
        "for i in range (0,10):\n",
        "  for j in range(0,10):\n",
        "    value = randint(0,9)\n",
        "    sum1 = sum1+value\n",
        "    print(value, '', end=\"\")\n",
        "  print('*', sum1)"
      ],
      "execution_count": 11,
      "outputs": [
        {
          "output_type": "stream",
          "text": [
            "4 1 6 5 5 7 2 0 9 8 * 47\n",
            "8 0 2 8 3 7 4 5 6 9 * 99\n",
            "2 6 8 1 8 4 7 4 9 2 * 150\n",
            "8 0 8 6 4 1 7 9 2 0 * 195\n",
            "8 9 3 7 3 5 8 2 0 5 * 245\n",
            "2 0 9 3 3 6 7 3 4 6 * 288\n",
            "4 7 0 5 5 7 9 9 9 1 * 344\n",
            "0 8 1 5 7 8 3 7 9 8 * 400\n",
            "2 3 4 2 0 8 6 4 7 1 * 437\n",
            "2 4 1 8 5 6 3 7 7 9 * 489\n"
          ],
          "name": "stdout"
        }
      ]
    },
    {
      "cell_type": "code",
      "metadata": {
        "id": "v_-ymF-Wu81x",
        "colab_type": "code",
        "colab": {}
      },
      "source": [
        ""
      ],
      "execution_count": null,
      "outputs": []
    }
  ]
}