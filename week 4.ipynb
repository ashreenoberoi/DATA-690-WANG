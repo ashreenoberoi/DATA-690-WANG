{
 "cells": [
  {
   "cell_type": "markdown",
   "metadata": {},
   "source": [
    "Let's read the data using the open "
   ]
  },
  {
   "cell_type": "code",
   "execution_count": 4,
   "metadata": {},
   "outputs": [
    {
     "name": "stdout",
     "output_type": "stream",
     "text": [
      "Census Year\tTotal Population\tCensus Cost\tAverage Cost Per Person\n",
      "1790\t3,929,214\t$44,377\t1.13 cents\n",
      "1800\t5,308,483\t$66,109\t1.24 cents\n",
      "1810\t7,239,881\t$178,445\t2.46 cents\n",
      "1820\t9,633,822\t$208,526\t2.16 cents\n",
      "1830\t12,866,020\t$378,545\t2.94 cents\n",
      "1840\t17,069,458\t$833,371\t4.88 cents\n",
      "1850\t23,191,876\t$1,423,351\t6.14 cents\n",
      "1860\t31,443,321\t$1,969,377\t6.26 cents\n",
      "1870\t38,558,371\t$3,421,198\t8.87 cents\n",
      "1880\t50,155,783\t$5,790,678\t11.54 cents\n",
      "1890\t62,979,766\t$11,547,127\t18.33 cents\n",
      "1900\t76,303,387\t$11,854,000\t15.54 cents\n",
      "1910\t91,972,266\t$15,968,000\t17.07 cents\n",
      "1920\t105,710,620\t$25,117,000\t23.76 cents\n",
      "1930\t122,775,046\t$40,156,000\t32.71 cents\n",
      "1940\t131,669,275\t$67,527,000\t51.29 cents\n",
      "1950\t151,325,798\t$91,462,000\t60.44 cents\n",
      "1960\t179,323,175\t$127,934,000\t71.34 cents\n",
      "1970\t203,302,031\t$247,653,000\t$1.22\n",
      "1980\t226,542,199\t$1,078,488,000\t$4.76\n",
      "1990\t248,718,301\t$2,492,830,000\t$10.02\n",
      "2000\t281,421,906\t$4.5 Billion\t$15.99\n",
      "2010*\t308,745,538\t$13 Billion\t$42.11\n"
     ]
    }
   ],
   "source": [
    "f = open(\"data.txt\", \"r\")\n",
    "print(f.read())"
   ]
  },
  {
   "cell_type": "markdown",
   "metadata": {},
   "source": [
    "Let's define the top_list which is the first two rows of the list."
   ]
  },
  {
   "cell_type": "code",
   "execution_count": 5,
   "metadata": {},
   "outputs": [],
   "source": [
    "top2_list=[]"
   ]
  },
  {
   "cell_type": "code",
   "execution_count": 6,
   "metadata": {},
   "outputs": [
    {
     "name": "stdout",
     "output_type": "stream",
     "text": [
      "Census Year\tTotal Population\tCensus Cost\tAverage Cost Per Person\n",
      "1790\t3,929,214\t$44,377\t1.13 cents\n",
      "1800\t5,308,483\t$66,109\t1.24 cents\n"
     ]
    }
   ],
   "source": [
    " def topNlines(fname, N): \n",
    "\t# opening file using with() method \n",
    "\t# so that file get closed \n",
    "\t# after completing work \n",
    "\twith open(fname) as file: \n",
    "\t\t\n",
    "\t\t# loop to read iterate \n",
    "\t\t# last n lines and print it \n",
    "\t\tfor line in (file.readlines() [0:N]):\n",
    "\t\t\ttop2_list.append(line)\n",
    "\t\t\tprint(line, end ='') \n",
    "\n",
    "\n",
    "# Driver Code: \n",
    "if __name__ == '__main__': \n",
    "\tfname = 'data.txt'\n",
    "\tN = 3\n",
    "\ttry: \n",
    "\t\ttopNlines(fname, N) \n",
    "\texcept: \n",
    "\t\tprint('File not found')\n"
   ]
  },
  {
   "cell_type": "markdown",
   "metadata": {},
   "source": [
    "Printing the top list"
   ]
  },
  {
   "cell_type": "code",
   "execution_count": 7,
   "metadata": {},
   "outputs": [
    {
     "name": "stdout",
     "output_type": "stream",
     "text": [
      "['Census Year\\tTotal Population\\tCensus Cost\\tAverage Cost Per Person\\n', '1790\\t3,929,214\\t$44,377\\t1.13 cents\\n', '1800\\t5,308,483\\t$66,109\\t1.24 cents\\n']\n"
     ]
    }
   ],
   "source": [
    "print(top2_list)"
   ]
  },
  {
   "cell_type": "markdown",
   "metadata": {},
   "source": [
    "In order to store the rest of the data, let's define the data_list and print the last rows\n"
   ]
  },
  {
   "cell_type": "code",
   "execution_count": 8,
   "metadata": {},
   "outputs": [],
   "source": [
    "data_list=[]"
   ]
  },
  {
   "cell_type": "code",
   "execution_count": 9,
   "metadata": {},
   "outputs": [
    {
     "name": "stdout",
     "output_type": "stream",
     "text": [
      "1810\t7,239,881\t$178,445\t2.46 cents\n",
      "1820\t9,633,822\t$208,526\t2.16 cents\n",
      "1830\t12,866,020\t$378,545\t2.94 cents\n",
      "1840\t17,069,458\t$833,371\t4.88 cents\n",
      "1850\t23,191,876\t$1,423,351\t6.14 cents\n",
      "1860\t31,443,321\t$1,969,377\t6.26 cents\n",
      "1870\t38,558,371\t$3,421,198\t8.87 cents\n",
      "1880\t50,155,783\t$5,790,678\t11.54 cents\n",
      "1890\t62,979,766\t$11,547,127\t18.33 cents\n",
      "1900\t76,303,387\t$11,854,000\t15.54 cents\n",
      "1910\t91,972,266\t$15,968,000\t17.07 cents\n",
      "1920\t105,710,620\t$25,117,000\t23.76 cents\n",
      "1930\t122,775,046\t$40,156,000\t32.71 cents\n",
      "1940\t131,669,275\t$67,527,000\t51.29 cents\n",
      "1950\t151,325,798\t$91,462,000\t60.44 cents\n",
      "1960\t179,323,175\t$127,934,000\t71.34 cents\n",
      "1970\t203,302,031\t$247,653,000\t$1.22\n",
      "1980\t226,542,199\t$1,078,488,000\t$4.76\n",
      "1990\t248,718,301\t$2,492,830,000\t$10.02\n",
      "2000\t281,421,906\t$4.5 Billion\t$15.99\n",
      "2010*\t308,745,538\t$13 Billion\t$42.11"
     ]
    }
   ],
   "source": [
    " def lastNlines(fname, N): \n",
    "\t# opening file using with() method \n",
    "\t# so that file get closed \n",
    "\t# after completing work \n",
    "\twith open(fname) as file: \n",
    "\t\t\n",
    "\t\t# loop to read iterate \n",
    "\t\t# last n lines and print it \n",
    "\t\tfor line in (file.readlines() [N:25]):\n",
    "\t\t\tdata_list.append(line)\n",
    "\t\t\tprint(line, end ='') \n",
    "\n",
    "\n",
    "# Driver Code: \n",
    "if __name__ == '__main__': \n",
    "\tfname = 'data.txt'\n",
    "\tN = 3\n",
    "\ttry: \n",
    "\t\tlastNlines(fname, N) \n",
    "\texcept: \n",
    "\t\tprint('File not found')"
   ]
  },
  {
   "cell_type": "code",
   "execution_count": 10,
   "metadata": {},
   "outputs": [
    {
     "data": {
      "text/plain": [
       "['1810\\t7,239,881\\t$178,445\\t2.46 cents\\n',\n",
       " '1820\\t9,633,822\\t$208,526\\t2.16 cents\\n',\n",
       " '1830\\t12,866,020\\t$378,545\\t2.94 cents\\n',\n",
       " '1840\\t17,069,458\\t$833,371\\t4.88 cents\\n',\n",
       " '1850\\t23,191,876\\t$1,423,351\\t6.14 cents\\n',\n",
       " '1860\\t31,443,321\\t$1,969,377\\t6.26 cents\\n',\n",
       " '1870\\t38,558,371\\t$3,421,198\\t8.87 cents\\n',\n",
       " '1880\\t50,155,783\\t$5,790,678\\t11.54 cents\\n',\n",
       " '1890\\t62,979,766\\t$11,547,127\\t18.33 cents\\n',\n",
       " '1900\\t76,303,387\\t$11,854,000\\t15.54 cents\\n',\n",
       " '1910\\t91,972,266\\t$15,968,000\\t17.07 cents\\n',\n",
       " '1920\\t105,710,620\\t$25,117,000\\t23.76 cents\\n',\n",
       " '1930\\t122,775,046\\t$40,156,000\\t32.71 cents\\n',\n",
       " '1940\\t131,669,275\\t$67,527,000\\t51.29 cents\\n',\n",
       " '1950\\t151,325,798\\t$91,462,000\\t60.44 cents\\n',\n",
       " '1960\\t179,323,175\\t$127,934,000\\t71.34 cents\\n',\n",
       " '1970\\t203,302,031\\t$247,653,000\\t$1.22\\n',\n",
       " '1980\\t226,542,199\\t$1,078,488,000\\t$4.76\\n',\n",
       " '1990\\t248,718,301\\t$2,492,830,000\\t$10.02\\n',\n",
       " '2000\\t281,421,906\\t$4.5 Billion\\t$15.99\\n',\n",
       " '2010*\\t308,745,538\\t$13 Billion\\t$42.11']"
      ]
     },
     "execution_count": 10,
     "metadata": {},
     "output_type": "execute_result"
    }
   ],
   "source": [
    "data_list"
   ]
  },
  {
   "cell_type": "markdown",
   "metadata": {},
   "source": [
    "In order to extract and remove the \"*\" we are making a temp list and then putting the final report in year_list"
   ]
  },
  {
   "cell_type": "code",
   "execution_count": 11,
   "metadata": {},
   "outputs": [
    {
     "name": "stdout",
     "output_type": "stream",
     "text": [
      "['1810', '1820', '1830', '1840', '1850', '1860', '1870', '1880', '1890', '1900', '1910', '1920', '1930', '1940', '1950', '1960', '1970', '1980', '1990', '2000', '2010']\n"
     ]
    }
   ],
   "source": [
    "year_list = []\n",
    "for i in range(0,len(data_list)):\n",
    "    temp = data_list[i].split('\\t')\n",
    "    if '*' in temp[0]:\n",
    "        year_list.append(temp[0].replace('*',''))\n",
    "    else:\n",
    "        year_list.append(temp[0])\n",
    "    #print(temp)\n",
    "print(year_list)    "
   ]
  },
  {
   "cell_type": "markdown",
   "metadata": {},
   "source": [
    "In order to extract and remove the \",\" we are making a temp list and then putting the final report in pop_list"
   ]
  },
  {
   "cell_type": "code",
   "execution_count": 12,
   "metadata": {},
   "outputs": [
    {
     "name": "stdout",
     "output_type": "stream",
     "text": [
      "['7239881', '9633822', '12866020', '17069458', '23191876', '31443321', '38558371', '50155783', '62979766', '76303387', '91972266', '105710620', '122775046', '131669275', '151325798', '179323175', '203302031', '226542199', '248718301', '281421906', '308745538']\n"
     ]
    }
   ],
   "source": [
    "pop_list = []\n",
    "for i in range(0,len(data_list)):\n",
    "    temp = data_list[i].split('\\t')\n",
    "    pop_list.append(temp[1].replace(',',''))\n",
    "print(pop_list)\n"
   ]
  },
  {
   "cell_type": "markdown",
   "metadata": {},
   "source": [
    "In order to Remove the \",\", and \"$\", and \"Billion\" we are making a temp list and then putting the final report in cost_list"
   ]
  },
  {
   "cell_type": "code",
   "execution_count": 13,
   "metadata": {},
   "outputs": [
    {
     "name": "stdout",
     "output_type": "stream",
     "text": [
      "['178445', '208526', '378545', '833371', '1423351', '1969377', '3421198', '5790678', '11547127', '11854000', '15968000', '25117000', '40156000', '67527000', '91462000', '127934000', '247653000', '1078488000', '2492830000', 13.5, 39.0]\n"
     ]
    }
   ],
   "source": [
    "cost_list = []\n",
    "for i in range(0,len(data_list)):\n",
    "    temp = data_list[i].split('\\t')\n",
    "    dummy = temp[2].replace('$','')\n",
    "    dummy = dummy.replace(',','')\n",
    "    if 'Billion' in dummy:\n",
    "        dummy = dummy.replace('Billion','')\n",
    "        dummy = float(dummy)*(10^9)\n",
    "    cost_list.append(dummy)\n",
    "\n",
    "print(cost_list)\n"
   ]
  },
  {
   "cell_type": "markdown",
   "metadata": {},
   "source": [
    "In order to Remove the \"cents\", and \"$\" we are making a temp list and then putting the final report in avg_list"
   ]
  },
  {
   "cell_type": "code",
   "execution_count": 14,
   "metadata": {},
   "outputs": [
    {
     "name": "stdout",
     "output_type": "stream",
     "text": [
      "[0.0246, 0.0216, 0.0294, 0.048799999999999996, 0.061399999999999996, 0.0626, 0.08869999999999999, 0.11539999999999999, 0.1833, 0.15539999999999998, 0.1707, 0.2376, 0.3271, 0.5129, 0.6043999999999999, 0.7134, 0.012199999999999999, 0.047599999999999996, 0.1002, 0.15990000000000001, 0.4211]\n"
     ]
    }
   ],
   "source": [
    "avg_list = []\n",
    "for i in range(0,len(data_list)):\n",
    "    temp = data_list[i].split('\\t')\n",
    "    dummy1 = temp[3].replace('$','')\n",
    "    dummy1 = dummy1.replace('cents','')\n",
    "    dummy1 = float(dummy1)/100\n",
    "    avg_list.append(dummy1)\n",
    "print(avg_list)"
   ]
  },
  {
   "cell_type": "markdown",
   "metadata": {},
   "source": [
    "putting everything in csv"
   ]
  },
  {
   "cell_type": "code",
   "execution_count": 15,
   "metadata": {},
   "outputs": [],
   "source": [
    "import csv\n",
    "\n",
    "with open('census_cost.csv', 'r', newline='') as f:\n",
    "    fieldnames = ['year_list','pop_list','cost_list','avg_list']\n",
    "    thewriter = csv.DictWriter(f, fieldnames= fieldnames)"
   ]
  },
  {
   "cell_type": "code",
   "execution_count": 16,
   "metadata": {},
   "outputs": [
    {
     "name": "stdout",
     "output_type": "stream",
     "text": [
      "<csv.DictWriter object at 0x000002339CE65128>\n"
     ]
    }
   ],
   "source": [
    "print(thewriter)"
   ]
  },
  {
   "cell_type": "code",
   "execution_count": 21,
   "metadata": {},
   "outputs": [],
   "source": [
    "with open('census_cost.csv','w') as file1:\n",
    "    for i in range(0, len(fieldnames)):\n",
    "        file1.write(str(fieldnames[i]))\n",
    "    for i in range(0,len(year_list)):\n",
    "        file1.write(str(year_list[i]))\n",
    "        file1.write(str(pop_list[i]))\n",
    "        file1.write(str(cost_list[i]))\n",
    "        file1.write(str(avg_list[i]))        "
   ]
  },
  {
   "cell_type": "code",
   "execution_count": 20,
   "metadata": {},
   "outputs": [
    {
     "data": {
      "text/plain": [
       "['year_list', 'pop_list', 'cost_list', 'avg_list']"
      ]
     },
     "execution_count": 20,
     "metadata": {},
     "output_type": "execute_result"
    }
   ],
   "source": [
    "fieldnames"
   ]
  }
 ],
 "metadata": {
  "kernelspec": {
   "display_name": "Python 3",
   "language": "python",
   "name": "python3"
  },
  "language_info": {
   "codemirror_mode": {
    "name": "ipython",
    "version": 3
   },
   "file_extension": ".py",
   "mimetype": "text/x-python",
   "name": "python",
   "nbconvert_exporter": "python",
   "pygments_lexer": "ipython3",
   "version": "3.7.3"
  }
 },
 "nbformat": 4,
 "nbformat_minor": 4
}
