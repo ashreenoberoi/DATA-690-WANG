{
  "nbformat": 4,
  "nbformat_minor": 0,
  "metadata": {
    "colab": {
      "name": "Updated homework 2.ipynb",
      "provenance": []
    },
    "kernelspec": {
      "name": "python3",
      "display_name": "Python 3"
    }
  },
  "cells": [
    {
      "cell_type": "markdown",
      "metadata": {
        "id": "LquYzZhmGwNw",
        "colab_type": "text"
      },
      "source": [
        "The Below code is to help the user to input  values and making sure that all of them are integers and not entering less than 10 values \n"
      ]
    },
    {
      "cell_type": "code",
      "metadata": {
        "id": "KNQKwlPL8wAq",
        "colab_type": "code",
        "colab": {}
      },
      "source": [
        "num_list = []\n",
        "\n",
        "count = 0\n",
        "\n",
        "\n",
        "while True:\n",
        "  if count ==10:\n",
        "    break\n",
        "  num = input(f\"Please enter an integer ({count + 1} of 10): \")\n",
        "\n",
        "  try:\n",
        "    num = int(num)\n",
        "    num_list.append(num)\n",
        "    count = count + 1\n",
        "  except:\n",
        "    print(\"Please try again\")\n",
        "\n",
        "print(\"\\n\", num_list)\n"
      ],
      "execution_count": null,
      "outputs": []
    },
    {
      "cell_type": "markdown",
      "metadata": {
        "id": "Y7JbtppsHBbH",
        "colab_type": "text"
      },
      "source": [
        "The below code is to find mean using no library"
      ]
    },
    {
      "cell_type": "code",
      "metadata": {
        "id": "EWCCRtd5_g91",
        "colab_type": "code",
        "colab": {}
      },
      "source": [
        "n = len(num_list) "
      ],
      "execution_count": 21,
      "outputs": []
    },
    {
      "cell_type": "code",
      "metadata": {
        "id": "4xFjx1zZB8Jt",
        "colab_type": "code",
        "colab": {
          "base_uri": "https://localhost:8080/",
          "height": 34
        },
        "outputId": "ba7f2c54-072e-4278-ef37-2bb39fca167e"
      },
      "source": [
        "get_sum = sum(num_list) \n",
        "mean = get_sum / n \n",
        "  \n",
        "print(\"Mean / Average is: \" + str(mean)) "
      ],
      "execution_count": 22,
      "outputs": [
        {
          "output_type": "stream",
          "text": [
            "Mean / Average is: 5.5\n"
          ],
          "name": "stdout"
        }
      ]
    },
    {
      "cell_type": "markdown",
      "metadata": {
        "id": "qXDyhTyHHFC7",
        "colab_type": "text"
      },
      "source": [
        "The below code is to find variance using no library\n"
      ]
    },
    {
      "cell_type": "code",
      "metadata": {
        "id": "t5qR9DL9Elba",
        "colab_type": "code",
        "colab": {}
      },
      "source": [
        "variance = sum([((x - mean) ** 2) for x in num_list]) / len(num_list) "
      ],
      "execution_count": 27,
      "outputs": []
    },
    {
      "cell_type": "code",
      "metadata": {
        "id": "1NXjJvZzFZRe",
        "colab_type": "code",
        "colab": {
          "base_uri": "https://localhost:8080/",
          "height": 34
        },
        "outputId": "40702c0e-cfd3-45f5-e2cd-6e092543273a"
      },
      "source": [
        "variance"
      ],
      "execution_count": 28,
      "outputs": [
        {
          "output_type": "execute_result",
          "data": {
            "text/plain": [
              "8.25"
            ]
          },
          "metadata": {
            "tags": []
          },
          "execution_count": 28
        }
      ]
    },
    {
      "cell_type": "markdown",
      "metadata": {
        "id": "IIBiyVaFHJF0",
        "colab_type": "text"
      },
      "source": [
        "The below code is to find standard diviation using no library"
      ]
    },
    {
      "cell_type": "code",
      "metadata": {
        "id": "6HwH2y0SFawU",
        "colab_type": "code",
        "colab": {}
      },
      "source": [
        "res = variance ** 0.5"
      ],
      "execution_count": 29,
      "outputs": []
    },
    {
      "cell_type": "code",
      "metadata": {
        "id": "BsWr40F6Fhro",
        "colab_type": "code",
        "colab": {
          "base_uri": "https://localhost:8080/",
          "height": 34
        },
        "outputId": "477b92ab-7b20-4252-a235-f18ac1891b89"
      },
      "source": [
        "print(\"Standard deviation of sample is : \" + str(res))"
      ],
      "execution_count": 30,
      "outputs": [
        {
          "output_type": "stream",
          "text": [
            "Standard deviation of sample is : 2.8722813232690143\n"
          ],
          "name": "stdout"
        }
      ]
    },
    {
      "cell_type": "markdown",
      "metadata": {
        "id": "glgi8EdbHU73",
        "colab_type": "text"
      },
      "source": [
        "The below code is to find maximum using no library\n"
      ]
    },
    {
      "cell_type": "code",
      "metadata": {
        "id": "2pUaGGi4Fjbd",
        "colab_type": "code",
        "colab": {
          "base_uri": "https://localhost:8080/",
          "height": 34
        },
        "outputId": "140fa450-7ba2-4193-e3ae-f32c65e0e4de"
      },
      "source": [
        "a = max( num_list )\n",
        "print(a)"
      ],
      "execution_count": 33,
      "outputs": [
        {
          "output_type": "stream",
          "text": [
            "10\n"
          ],
          "name": "stdout"
        }
      ]
    },
    {
      "cell_type": "markdown",
      "metadata": {
        "id": "qBIYDMYdHYs7",
        "colab_type": "text"
      },
      "source": [
        "The below code is to find minimum without any library"
      ]
    },
    {
      "cell_type": "code",
      "metadata": {
        "id": "Uzve3AO1GhV_",
        "colab_type": "code",
        "colab": {
          "base_uri": "https://localhost:8080/",
          "height": 34
        },
        "outputId": "cb6a4167-987a-4262-d70a-3459f9f83975"
      },
      "source": [
        "b = min(num_list)\n",
        "print(b)"
      ],
      "execution_count": 34,
      "outputs": [
        {
          "output_type": "stream",
          "text": [
            "1\n"
          ],
          "name": "stdout"
        }
      ]
    },
    {
      "cell_type": "markdown",
      "metadata": {
        "id": "O7z6RNt2ITDG",
        "colab_type": "text"
      },
      "source": [
        "The below code is to find the range without any libraries "
      ]
    },
    {
      "cell_type": "code",
      "metadata": {
        "id": "ZWrDMJJ9ID76",
        "colab_type": "code",
        "colab": {
          "base_uri": "https://localhost:8080/",
          "height": 34
        },
        "outputId": "e5267625-72dc-4366-a008-88ddce15dcd7"
      },
      "source": [
        "a"
      ],
      "execution_count": 40,
      "outputs": [
        {
          "output_type": "execute_result",
          "data": {
            "text/plain": [
              "10"
            ]
          },
          "metadata": {
            "tags": []
          },
          "execution_count": 40
        }
      ]
    },
    {
      "cell_type": "code",
      "metadata": {
        "id": "Yd3OFiWCIJdk",
        "colab_type": "code",
        "colab": {
          "base_uri": "https://localhost:8080/",
          "height": 34
        },
        "outputId": "6d79ea34-2db1-40f3-a2ee-aa90c67f2dfc"
      },
      "source": [
        "b"
      ],
      "execution_count": 41,
      "outputs": [
        {
          "output_type": "execute_result",
          "data": {
            "text/plain": [
              "1"
            ]
          },
          "metadata": {
            "tags": []
          },
          "execution_count": 41
        }
      ]
    },
    {
      "cell_type": "code",
      "metadata": {
        "id": "MONrgpp9IKqZ",
        "colab_type": "code",
        "colab": {}
      },
      "source": [
        "range = [a , b]"
      ],
      "execution_count": 42,
      "outputs": []
    },
    {
      "cell_type": "code",
      "metadata": {
        "id": "GlCDtbayIPT7",
        "colab_type": "code",
        "colab": {
          "base_uri": "https://localhost:8080/",
          "height": 34
        },
        "outputId": "d244b6ff-0f07-437f-9cc0-bf6f8e91ce3f"
      },
      "source": [
        "range"
      ],
      "execution_count": 43,
      "outputs": [
        {
          "output_type": "execute_result",
          "data": {
            "text/plain": [
              "[10, 1]"
            ]
          },
          "metadata": {
            "tags": []
          },
          "execution_count": 43
        }
      ]
    },
    {
      "cell_type": "code",
      "metadata": {
        "id": "fwzhmnyqIQSo",
        "colab_type": "code",
        "colab": {}
      },
      "source": [
        ""
      ],
      "execution_count": null,
      "outputs": []
    }
  ]
}