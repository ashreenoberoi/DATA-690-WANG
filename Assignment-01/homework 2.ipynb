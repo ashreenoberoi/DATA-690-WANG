{
 "cells": [
  {
   "cell_type": "markdown",
   "metadata": {},
   "source": [
    "#Assignment 2 "
   ]
  },
  {
   "cell_type": "markdown",
   "metadata": {},
   "source": [
    "1.The following code will enable the user to enter 10 integers. It does not accept any other value. If you enter a wrong value, it will start the counting from the begining and will ask you to keep entering 10 integers till the time you enter 10 numbers correctly"
   ]
  },
  {
   "cell_type": "code",
   "execution_count": 27,
   "metadata": {
    "collapsed": true,
    "jupyter": {
     "outputs_hidden": true
    }
   },
   "outputs": [
    {
     "name": "stdin",
     "output_type": "stream",
     "text": [
      "Enter an integer number:  1\n",
      "Enter an integer number:  11\n",
      "Enter an integer number:  12\n",
      "Enter an integer number:  13\n",
      "Enter an integer number:  14\n",
      "Enter an integer number:  15\n",
      "Enter an integer number:  16\n",
      "Enter an integer number:  17\n",
      "Enter an integer number:  18\n",
      "Enter an integer number:  19\n"
     ]
    },
    {
     "name": "stdout",
     "output_type": "stream",
     "text": [
      "1\n",
      "11\n",
      "12\n",
      "13\n",
      "14\n",
      "15\n",
      "16\n",
      "17\n",
      "18\n",
      "19\n"
     ]
    }
   ],
   "source": [
    "while True:\n",
    "  try:\n",
    "    num = int(input(\"Enter an integer number: \"))\n",
    "    num1 = int(input(\"Enter an integer number: \"))\n",
    "    num2 = int(input(\"Enter an integer number: \"))\n",
    "    num3 = int(input(\"Enter an integer number: \"))\n",
    "    num4 = int(input(\"Enter an integer number: \"))\n",
    "    num5 = int(input(\"Enter an integer number: \"))\n",
    "    num6 = int(input(\"Enter an integer number: \"))\n",
    "    num7 = int(input(\"Enter an integer number: \"))\n",
    "    num8 = int(input(\"Enter an integer number: \"))\n",
    "    num9 = int(input(\"Enter an integer number: \"))\n",
    "    break\n",
    "  except ValueError:\n",
    "      print(\"Please input integer only...\")  \n",
    "      continue\n",
    "\n",
    "print(num)\n",
    "print(num1)\n",
    "print(num2)\n",
    "print(num3)\n",
    "print(num4)\n",
    "print(num5)\n",
    "print(num6)\n",
    "print(num7)\n",
    "print(num8)\n",
    "print(num9)"
   ]
  },
  {
   "cell_type": "markdown",
   "metadata": {},
   "source": [
    "This code combines all the numbers and make them into one list so we can perform the statistics "
   ]
  },
  {
   "cell_type": "code",
   "execution_count": 30,
   "metadata": {},
   "outputs": [],
   "source": [
    "combine = [num, num1, num2, num3, num4, num5, num6, num7, num8, num9]"
   ]
  },
  {
   "cell_type": "code",
   "execution_count": 31,
   "metadata": {},
   "outputs": [
    {
     "data": {
      "text/plain": [
       "[1, 11, 12, 13, 14, 15, 16, 17, 18, 19]"
      ]
     },
     "execution_count": 31,
     "metadata": {},
     "output_type": "execute_result"
    }
   ],
   "source": [
    "combine"
   ]
  },
  {
   "cell_type": "markdown",
   "metadata": {},
   "source": [
    "This code id to find the mean"
   ]
  },
  {
   "cell_type": "code",
   "execution_count": 32,
   "metadata": {},
   "outputs": [
    {
     "data": {
      "text/plain": [
       "13.6"
      ]
     },
     "execution_count": 32,
     "metadata": {},
     "output_type": "execute_result"
    }
   ],
   "source": [
    "average = sum(combine) / len(combine)\n",
    "average"
   ]
  },
  {
   "cell_type": "markdown",
   "metadata": {},
   "source": [
    "This will help us find the variance "
   ]
  },
  {
   "cell_type": "code",
   "execution_count": 33,
   "metadata": {},
   "outputs": [],
   "source": [
    "import numpy as np"
   ]
  },
  {
   "cell_type": "code",
   "execution_count": 34,
   "metadata": {},
   "outputs": [
    {
     "name": "stdout",
     "output_type": "stream",
     "text": [
      "23.639999999999997\n"
     ]
    }
   ],
   "source": [
    "var = np.var(combine)\n",
    "print(var)"
   ]
  },
  {
   "cell_type": "markdown",
   "metadata": {},
   "source": [
    "This code is for standard diviation "
   ]
  },
  {
   "cell_type": "code",
   "execution_count": 35,
   "metadata": {},
   "outputs": [],
   "source": [
    "import statistics\n"
   ]
  },
  {
   "cell_type": "code",
   "execution_count": 36,
   "metadata": {},
   "outputs": [
    {
     "data": {
      "text/plain": [
       "5.125101625008686"
      ]
     },
     "execution_count": 36,
     "metadata": {},
     "output_type": "execute_result"
    }
   ],
   "source": [
    "statistics.stdev(combine)"
   ]
  },
  {
   "cell_type": "markdown",
   "metadata": {},
   "source": [
    "This is a code for maximum and minimum values"
   ]
  },
  {
   "cell_type": "code",
   "execution_count": 37,
   "metadata": {},
   "outputs": [
    {
     "name": "stdout",
     "output_type": "stream",
     "text": [
      "19\n"
     ]
    }
   ],
   "source": [
    "print(max(combine))"
   ]
  },
  {
   "cell_type": "code",
   "execution_count": 38,
   "metadata": {},
   "outputs": [
    {
     "name": "stdout",
     "output_type": "stream",
     "text": [
      "1\n"
     ]
    }
   ],
   "source": [
    "print(min(combine))"
   ]
  }
 ],
 "metadata": {
  "kernelspec": {
   "display_name": "Python 3",
   "language": "python",
   "name": "python3"
  },
  "language_info": {
   "codemirror_mode": {
    "name": "ipython",
    "version": 3
   },
   "file_extension": ".py",
   "mimetype": "text/x-python",
   "name": "python",
   "nbconvert_exporter": "python",
   "pygments_lexer": "ipython3",
   "version": "3.8.1"
  }
 },
 "nbformat": 4,
 "nbformat_minor": 4
}
