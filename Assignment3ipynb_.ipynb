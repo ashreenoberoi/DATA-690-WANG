{
  "nbformat": 4,
  "nbformat_minor": 0,
  "metadata": {
    "colab": {
      "name": "Assignment3ipynb .ipynb",
      "provenance": [],
      "collapsed_sections": []
    },
    "kernelspec": {
      "name": "python3",
      "display_name": "Python 3"
    }
  },
  "cells": [
    {
      "cell_type": "markdown",
      "metadata": {
        "id": "SDQ9pZ9t1UmC"
      },
      "source": [
        "If the random number is an odd number, print \"@\" instead. like the following:"
      ]
    },
    {
      "cell_type": "code",
      "metadata": {
        "id": "l43_pLaWcuIn",
        "outputId": "7f9d4ff7-e727-4872-fb8c-c2dce046424b",
        "colab": {
          "base_uri": "https://localhost:8080/",
          "height": 357
        }
      },
      "source": [
        "for i in range(0,10):\n",
        "  for j in range(0,10):\n",
        "    value = randint(0,9)\n",
        "    if value%2 != 0:\n",
        "      value = \"@\"\n",
        "    print (value, '', end =\"\")\n",
        "  print('\\n')"
      ],
      "execution_count": 4,
      "outputs": [
        {
          "output_type": "stream",
          "text": [
            "@ 4 @ 4 4 8 @ 6 0 @ \n",
            "\n",
            "@ 6 @ @ @ @ @ 0 4 2 \n",
            "\n",
            "0 0 8 @ @ @ 4 @ 0 @ \n",
            "\n",
            "4 @ 8 2 @ 4 @ @ @ 2 \n",
            "\n",
            "@ 8 2 8 @ @ @ @ @ 6 \n",
            "\n",
            "8 2 6 4 @ @ @ @ 8 @ \n",
            "\n",
            "4 @ 6 @ 4 4 4 6 0 0 \n",
            "\n",
            "@ 2 @ @ 8 2 2 8 4 0 \n",
            "\n",
            "4 @ 2 6 @ 0 @ 6 6 2 \n",
            "\n",
            "8 8 6 @ @ 2 @ @ @ @ \n",
            "\n"
          ],
          "name": "stdout"
        }
      ]
    },
    {
      "cell_type": "markdown",
      "metadata": {
        "id": "v4iXjzwe1hhl"
      },
      "source": [
        "Calculate and Print the total of each row like the following (use \"*\" to separate the total from the numbers):\n"
      ]
    },
    {
      "cell_type": "code",
      "metadata": {
        "id": "3QNOXs2stUbS",
        "outputId": "02c9a2d0-7615-404b-cf59-637add2a3f61",
        "colab": {
          "base_uri": "https://localhost:8080/",
          "height": 187
        }
      },
      "source": [
        "sum1 = 0\n",
        "for i in range (0,10):\n",
        "  sum1= 0\n",
        "  for j in range(0,10):\n",
        "    value = randint(0,9)\n",
        "    sum1 = sum1+value\n",
        "    print(value, '', end=\"\")\n",
        "  print('*', sum1)"
      ],
      "execution_count": 3,
      "outputs": [
        {
          "output_type": "stream",
          "text": [
            "4 3 1 7 6 4 5 3 6 3 * 42\n",
            "5 9 2 6 6 2 8 6 8 1 * 53\n",
            "9 2 7 6 8 5 6 0 5 1 * 49\n",
            "0 2 4 6 4 1 4 8 1 5 * 35\n",
            "6 0 4 8 4 9 2 9 4 4 * 50\n",
            "1 4 7 4 9 0 8 4 7 0 * 44\n",
            "5 8 3 7 6 5 5 1 3 2 * 45\n",
            "4 5 2 2 2 8 4 0 9 9 * 45\n",
            "0 2 5 7 5 3 0 8 2 4 * 36\n",
            "6 7 6 5 7 7 6 9 3 0 * 56\n"
          ],
          "name": "stdout"
        }
      ]
    },
    {
      "cell_type": "markdown",
      "metadata": {
        "id": "pE5-T7BU1lL8"
      },
      "source": [
        "Print them in a 10 by 10 matrix neatly arranged like the following (one space between each number):"
      ]
    },
    {
      "cell_type": "code",
      "metadata": {
        "id": "v_-ymF-Wu81x",
        "outputId": "1836eb47-d683-40fd-e94c-dd1741210038",
        "colab": {
          "base_uri": "https://localhost:8080/",
          "height": 204
        }
      },
      "source": [
        "import pandas as pd\n",
        "from random import randint\n",
        "\n",
        "outside_size = 10 # How many nested lists to include\n",
        "inside_size = 10  # How many numbers will be in an inside list\n",
        "outside_list = [] # The final list\n",
        "for i in range(0, outside_size, 1):\n",
        "    _list = [] # Create new \"inside\" (nested) list\n",
        "    for j in range(0, inside_size, 1): # Populate the nested list with random numbers\n",
        "        _list.append(randint(0, 10))\n",
        "    outside_list.append(_list) # Add the inside (nested) list to the outside (final) list\n",
        "\n",
        "df = pd.DataFrame(outside_list) # Create the dataframe from it\n",
        "print(df)"
      ],
      "execution_count": 2,
      "outputs": [
        {
          "output_type": "stream",
          "text": [
            "    0  1  2  3   4   5  6   7   8  9\n",
            "0   9  2  5  0   4   9  6   7   1  2\n",
            "1   9  1  4  5   6   3  1   1   3  7\n",
            "2   7  8  3  6   2   9  7   5   8  5\n",
            "3   8  6  8  3   3   1  2   9   5  7\n",
            "4   4  8  5  9   7   7  6   9   5  5\n",
            "5  10  5  6  2   6   3  9   5   2  3\n",
            "6   9  5  6  2  10   1  2   9   1  5\n",
            "7   4  6  8  4   0   0  1  10   2  1\n",
            "8  10  2  5  4   3  10  7   5   7  6\n",
            "9   9  3  9  9   0   5  4   0  10  5\n"
          ],
          "name": "stdout"
        }
      ]
    },
    {
      "cell_type": "code",
      "metadata": {
        "id": "Qz-BymGX1IRX"
      },
      "source": [
        ""
      ],
      "execution_count": null,
      "outputs": []
    }
  ]
}